{
 "cells": [
  {
   "cell_type": "markdown",
   "metadata": {
    "id": "6z5YVNCz9mLL"
   },
   "source": [
    "# AIMET dependencies install & build\n",
    "The following group of cells installs the AIMET library for you. For more details, please see [this link](https://github.com/quic/aimet/blob/develop/packaging/google_colab_install.md).\n",
    "\n",
    "You can clone this notebook and use it in your own project. Make sure that before running these cells, you connect to a hosted environment with a GPU accelerator. (Runtime -> Change runtime -> Hardware Accelerator(GPU))"
   ]
  },
  {
   "cell_type": "markdown",
   "metadata": {
    "id": "-Hz_C0-x_hbw"
   },
   "source": [
    "## Installing dependencies\n",
    "May prompt you."
   ]
  },
  {
   "cell_type": "markdown",
   "metadata": {
    "colab": {
     "base_uri": "https://localhost:8080/",
     "height": 1000
    },
    "id": "CdeL83rFt-Zy",
    "outputId": "d8a6c4ec-ceb9-4b8a-d277-a4c2c1b2b0a2"
   },
   "source": [
    "!pip3 uninstall --yes protobuf\n",
    "!pip3 uninstall --yes tensorflow\n",
    "!apt-get update\n",
    "!apt-get install python3.6\n",
    "!apt-get install python3-dev\n",
    "!apt-get install python3-pip\n",
    "!apt-get install liblapacke liblapacke-dev\n",
    "!apt-get install wget\n",
    "!pip3 install numpy==1.16.4\n",
    "!apt-get install libgtest-dev build-essential cmake\n",
    "!pip3 --no-cache-dir install opencv-python==4.1.0.25\n",
    "!pip3 --no-cache-dir install pillow==6.2.1\n",
    "!pip3 install pytorch-ignite==0.1.0\n",
    "!wget -q https://github.com/Itseez/opencv/archive/3.1.0.tar.gz -O /tmp/3.1.0.tar.gz > /dev/null\n",
    "!tar -C /tmp -xvf /tmp/3.1.0.tar.gz > /dev/null\n",
    "%cd /tmp/opencv-3.1.0\n",
    "%mkdir release\n",
    "%cd release\n",
    "!cmake -DCMAKE_POSITION_INDEPENDENT_CODE=ON -DBUILD_SHARED_LIBS=OFF -DCMAKE_BUILD_TYPE=release -DWITH_FFMPEG=OFF -DBUILD_TESTS=OFF -DWITH_CUDA=OFF -DBUILD_PERF_TESTS=OFF -DWITH_IPP=OFF -DENABLE_PRECOMPILED_HEADERS=OFF .. > /dev/null\n",
    "!make -j16 > /dev/null\n",
    "!make -j16 install > /dev/null\n",
    "!wget https://developer.download.nvidia.com/compute/cuda/repos/ubuntu1804/x86_64/cuda-repo-ubuntu1804_10.0.130-1_amd64.deb\n",
    "!apt-key adv --fetch-keys https://developer.download.nvidia.com/compute/cuda/repos/ubuntu1804/x86_64/7fa2af80.pub\n",
    "!dpkg -i cuda-repo-ubuntu1804_10.0.130-1_amd64.deb\n",
    "!apt-get update\n",
    "!wget http://developer.download.nvidia.com/compute/machine-learning/repos/ubuntu1804/x86_64/nvidia-machine-learning-repo-ubuntu1804_1.0.0-1_amd64.deb\n",
    "!apt install ./nvidia-machine-learning-repo-ubuntu1804_1.0.0-1_amd64.deb\n",
    "!apt-get update\n",
    "!apt install cuda-cublas-10-0 cuda-cufft-10-0 cuda-curand-10-0 cuda-cusolver-10-0\n",
    "!apt-get update && apt install cuda-cusparse-10-0 libcudnn7=7.6.2.24-1+cuda10.0 libnccl2=2.4.8-1+cuda10.0  cuda-command-line-tools-10.0\n",
    "!pip3 install scipy==1.1.0\n",
    "!pip3 install protobuf==3.7.1\n",
    "!pip3 install scikit-learn==0.19.1\n",
    "!pip3 install tb-nightly==1.14.0a20190517\n",
    "!pip3 install tensorboardX==1.7\n",
    "!pip3 install https://download.pytorch.org/whl/cu100/torch-1.4.0%2Bcu100-cp36-cp36m-linux_x86_64.whl\n",
    "!pip3 install https://download.pytorch.org/whl/cu100/torchvision-0.5.0%2Bcu100-cp36-cp36m-linux_x86_64.whl\n",
    "!pip3 install --upgrade pip\n",
    "!pip3 install tensorflow-gpu==1.15.0\n",
    "!pip3 install future==0.17.1\n",
    "!pip3 install tensorboard==1.14\n",
    "!pip3 install bokeh==1.2.0\n",
    "!pip3 install pandas==0.22.0\n",
    "!pip3 install holoviews==1.12.7\n",
    "!pip3 install --no-deps bokeh==1.2.0 hvplot==0.4.0\n",
    "!pip3 install jsonschema==3.1.1\n",
    "!pip3 install osqp onnx\n",
    "\n",
    "!ln -s /usr/local/cuda-10.0 /usr/local/cuda\n",
    "!apt-get update && apt-get install -y libjpeg8-dev\n",
    "!ln -s /usr/lib/x86_64-linux-gnu/libjpeg.so /usr/lib\n",
    "\n",
    "!apt install zlib1g-dev\n",
    "\n",
    "!pip3 uninstall --yes Pillow && pip3 install Pillow-SIMD==6.0.0.post0\n",
    "!pip3 uninstall --yes pytest\n",
    "!pip3 install pytest\n",
    "\n",
    "!pip3 install setuptools==41.0.1\n",
    "!pip3 install keras==2.2.4\n",
    "\n",
    "%rm -rf /usr/local/bin/python\n",
    "!ln -s /usr/bin/python3 /usr/local/bin/python"
   ]
  },
  {
   "cell_type": "markdown",
   "metadata": {
    "id": "PiiZL_wi_oeP"
   },
   "source": [
    "After installing the dependencies, you must restart the environment before proceeding if you are working on google colab. (Runtime -> Restart Runtime) Don't run the first cell again in the restarted runtime.\n"
   ]
  },
  {
   "cell_type": "markdown",
   "metadata": {
    "id": "tdF9TK03CKiW"
   },
   "source": [
    "## AIMET build and installation."
   ]
  },
  {
   "cell_type": "markdown",
   "metadata": {
    "colab": {
     "base_uri": "https://localhost:8080/"
    },
    "id": "PKxhMkMJuNE_",
    "outputId": "ba5eecb2-3447-4e31-ca95-aa72db442ba1"
   },
   "source": [
    "%cd /content/\n",
    "!rm -rf aimet_code\n",
    "!mkdir aimet_code\n",
    "%cd aimet_code\n",
    "!git clone https://github.com/quic/aimet.git\n",
    "%cd aimet\n",
    "%mkdir -p ./ThirdParty/googletest\n",
    "%pushd ./ThirdParty/googletest\n",
    "!git clone https://github.com/google/googletest.git -b release-1.8.0 googletest-release-1.8.0\n",
    "%popd\n",
    "%cd /content/aimet_code\n",
    "%mkdir build\n",
    "%cd build\n",
    "!cmake -DCMAKE_EXPORT_COMPILE_COMMANDS=ON ../aimet\n",
    "!make -j 8\n",
    "!make install"
   ]
  },
  {
   "cell_type": "markdown",
   "metadata": {
    "id": "U6qARmUzAZj4"
   },
   "source": [
    "## Setting up `PYTHONPATH` and `LD_LIBRARY_PATH`"
   ]
  },
  {
   "cell_type": "markdown",
   "metadata": {
    "id": "bknoYExJuRJm"
   },
   "source": [
    "import sys\n",
    "\n",
    "sys.path.append(r'/content/aimet_code/build/staging/universal/lib/python')\n",
    "sys.path.append(r'/content/aimet_code/build/staging/universal/lib/x86_64-linux-gnu')\n",
    "sys.path.append(r'/usr/local/lib/python3.6/dist-packages')\n",
    "sys.path.append(r'/content/aimet_code/build/artifacts')\n",
    "\n",
    "import os\n",
    "\n",
    "os.environ['LD_LIBRARY_PATH']+= \":/content/aimet_code/build/artifacts\""
   ]
  },
  {
   "cell_type": "markdown",
   "metadata": {
    "id": "2DiI-1hvAhd3"
   },
   "source": [
    "## Run unit tests\n",
    "If the installation went smoothly, all tests should pass."
   ]
  },
  {
   "cell_type": "markdown",
   "metadata": {
    "colab": {
     "base_uri": "https://localhost:8080/"
    },
    "id": "a-b_VUTSuZT2",
    "outputId": "1bb289d5-c284-41d9-a9ca-7a2d8f814d8d"
   },
   "source": [
    "%cd /content/aimet_code/build/\n",
    "!ctest"
   ]
  },
  {
   "cell_type": "code",
   "execution_count": null,
   "metadata": {},
   "outputs": [],
   "source": []
  },
  {
   "cell_type": "markdown",
   "metadata": {
    "id": "AsT60OxHwuVN"
   },
   "source": [
    "# Import necessary python packages"
   ]
  },
  {
   "cell_type": "code",
   "execution_count": 109,
   "metadata": {
    "colab": {
     "base_uri": "https://localhost:8080/",
     "height": 1000
    },
    "id": "VOb8Uyqqwz91",
    "outputId": "5bdce2cc-3305-4214-aaac-c7890c11799a"
   },
   "outputs": [],
   "source": [
    "import os, sys\n",
    "import warnings\n",
    "from decimal import Decimal\n",
    "import numpy as np\n",
    "import matplotlib.pyplot as plt\n",
    "from contextlib import contextmanager\n",
    "\n",
    "import torchvision.transforms\n",
    "\n",
    "import torch\n",
    "import torch.nn as nn\n",
    "import torch.nn.functional as F\n",
    "from torch.utils.data import DataLoader\n",
    "from torch.utils.data.sampler import WeightedRandomSampler\n",
    "import torch.optim as optim\n",
    "from torch.utils.tensorboard import SummaryWriter\n",
    "\n",
    "from aimet_common.defs import CostMetric, CompressionScheme, GreedySelectionParameters\n",
    "from aimet_torch.defs import ChannelPruningParameters, SpatialSvdParameters, ModuleCompRatioPair\n",
    "from aimet_torch.compress import ModelCompressor\n",
    "from aimet_torch.onnx_utils import OnnxSaver\n",
    "\n",
    "from sklearn.metrics import f1_score\n",
    "from torchvision.datasets import MNIST, CIFAR10\n",
    "import timeit\n",
    "\n",
    "# CIFAR models\n",
    "from models import *"
   ]
  },
  {
   "cell_type": "markdown",
   "metadata": {
    "id": "-ZJ8R7fCRx_f"
   },
   "source": [
    "# Define a model and evaluation metrics"
   ]
  },
  {
   "cell_type": "code",
   "execution_count": 83,
   "metadata": {
    "colab": {
     "base_uri": "https://localhost:8080/",
     "height": 315,
     "referenced_widgets": [
      "215364f96255434199cfc28ae086ab2f",
      "48051cec6b954080a324f2cef483dc55",
      "eebd3d97a7b5457790eed766d5fe4bc9",
      "2f521280951244d1b13c088ae3a166a8",
      "03f13b9671bc4300b9275ead0b3bdf66",
      "1b67e0e5fc9c41d8a38472c73b69eaa9",
      "b158080280a442b1b016c06b913bab06",
      "fec0f6661147447dad90106b6046afe3",
      "223993443e194b58aa4e62b48fb83e36",
      "8b4851dbf7474f8b8d89123336b191e8",
      "f441ec61ff6e49b0832ff3ef34e84125",
      "799b6c74872a4d09a9afcd24b325f290",
      "f8ca54c9522f44f98e7901374474c7e2",
      "935992324dc046738f9cc2d6b3a0e5a2",
      "a354c3aebeb6495a8e5cdca97563f60b",
      "11f0b2d07f6440a38efe5a6c357aaa23",
      "27ce4fd85b7742b3b6110609b241ec4c",
      "137fd723bd684014b9cabc25a326b8c4",
      "e47ae22e5d754fcda53d891a34e9b0e8",
      "7b6d2f06c21942548550ff213bcf128f",
      "5023a0ea5ed04e75a787f31d45df6fb0",
      "e7594e00a52d485585d7cf17318bdb10",
      "2045b175693c4454b2af1a7517253a81",
      "c4cd79e1b8a8461e9167534fa350c727",
      "7459282c098d438a820fad3ac4a9f05e",
      "7b009ad1b43b427b915f106cea8f5f67",
      "7eda1c09ef1e49159d7b4b9f1b1aea28",
      "3d64610968cd4b72ab9ecefdd2dd1b5d",
      "bf602e5a534345bc8868091294c119f2",
      "e31e75cffc214067a8682bf1dbaea674",
      "c95d62f1e7dc4ae59f33cc0ecda806a1",
      "413539febd5241bbb15d67ee0d142237"
     ]
    },
    "id": "9YF98Lnf2DXg",
    "outputId": "c23b1b04-6df8-4b67-acc1-30c036b4d12a"
   },
   "outputs": [],
   "source": [
    "def get_test_loader(dataset):\n",
    "    # Define test loader\n",
    "    if dataset == \"MNIST\":\n",
    "        transformImg = torchvision.transforms.Compose([torchvision.transforms.ToTensor(),\n",
    "                                                       torchvision.transforms.Normalize((0.1307,), (0.3081,))])\n",
    "\n",
    "\n",
    "        test = MNIST(root='./data', train=False, download=True, transform=transformImg)\n",
    "        test_loader = DataLoader(test, batch_size=1024, num_workers=4, shuffle=False, pin_memory=True)\n",
    "        \n",
    "    elif dataset == \"CIFAR10\":\n",
    "        transformImg = torchvision.transforms.Compose([torchvision.transforms.ToTensor(),\n",
    "            torchvision.transforms.Normalize((0.4914, 0.4822, 0.4465), (0.2023, 0.1994, 0.2010))\n",
    "        ])\n",
    "        test = CIFAR10(root='./data', train=False, download=True, transform=transformImg)\n",
    "        test_loader = DataLoader(test, batch_size=1024, num_workers=4, shuffle=False, pin_memory=True)\n",
    "    \n",
    "    else:\n",
    "        print(\"Not a valid dataset, use 'MNIST' or 'CIFAR10.'\")\n",
    "        return\n",
    "    \n",
    "    return test_loader"
   ]
  },
  {
   "cell_type": "code",
   "execution_count": 84,
   "metadata": {},
   "outputs": [
    {
     "name": "stdout",
     "output_type": "stream",
     "text": [
      "Files already downloaded and verified\n"
     ]
    }
   ],
   "source": [
    "test_loader = get_test_loader(\"CIFAR10\")"
   ]
  },
  {
   "cell_type": "markdown",
   "metadata": {
    "id": "sXn0f41ueDFN"
   },
   "source": [
    "Set random seed for reprodubicility"
   ]
  },
  {
   "cell_type": "code",
   "execution_count": 85,
   "metadata": {
    "id": "Y-GPWZa2eFS1"
   },
   "outputs": [],
   "source": [
    "def set_seed(seed=42):\n",
    "    torch.manual_seed(seed)\n",
    "    np.random.seed(seed)\n",
    "    torch.backends.cudnn.deterministic = True\n",
    "    torch.backends.cudnn.benchmark = False\n",
    "\n",
    "set_seed(33)"
   ]
  },
  {
   "cell_type": "markdown",
   "metadata": {
    "id": "U_zQ5VelR30T"
   },
   "source": [
    "Define a model"
   ]
  },
  {
   "cell_type": "code",
   "execution_count": 86,
   "metadata": {
    "colab": {
     "base_uri": "https://localhost:8080/"
    },
    "id": "z9-dFvJhRxsf",
    "outputId": "da886ca7-72bb-4d02-ff31-c0d2218fc394"
   },
   "outputs": [],
   "source": [
    "class LeNet5(torch.nn.Module):          \n",
    "\n",
    "    def __init__(self):     \n",
    "        super(LeNet5, self).__init__()\n",
    "        self.convs = nn.Sequential(nn.Conv2d(in_channels=1, out_channels=6, kernel_size=5, padding=2),\n",
    "                                    nn.ReLU(),\n",
    "                                    nn.MaxPool2d(kernel_size=2),\n",
    "                                    nn.Conv2d(in_channels=6, out_channels=16, kernel_size=5, padding=0),\n",
    "                                    nn.ReLU(),\n",
    "                                    nn.MaxPool2d(kernel_size=2)\n",
    "                                  )\n",
    "\n",
    "        self.linears = nn.Sequential(nn.Linear(16*5*5, 120),\n",
    "                                     nn.Linear(120, 84),\n",
    "                                     nn.Linear(84, 10)\n",
    "                                    )\n",
    "\n",
    "    def forward(self, x):\n",
    "        x = self.convs(x)\n",
    "        x = x.flatten(start_dim=1)\n",
    "        x = self.linears(x)\n",
    "\n",
    "        return x"
   ]
  },
  {
   "cell_type": "markdown",
   "metadata": {
    "id": "6iRixegDe7Ot"
   },
   "source": [
    "Define functions for conducting the training and testing epochs"
   ]
  },
  {
   "cell_type": "code",
   "execution_count": 140,
   "metadata": {
    "id": "W-zAeCohxoEL"
   },
   "outputs": [],
   "source": [
    "def accuracy(out, y):\n",
    "    preds = out.argmax(dim=1, keepdim=True).squeeze()\n",
    "    correct = preds.eq(y).sum().item()\n",
    "    return correct\n",
    "\n",
    "def train_epoch(model, opt, train_loader, criterion, device):\n",
    "    model.train()\n",
    "    epoch_loss = 0\n",
    "    epoch_acc = 0\n",
    "    n_samples = 0\n",
    "    for x, y in train_loader:\n",
    "        opt.zero_grad()\n",
    "\n",
    "        x, y = x.to(device), y.to(device)\n",
    "        out = model.forward(x)\n",
    "        loss = criterion(out, y)\n",
    "        \n",
    "        correct = accuracy(out, y)\n",
    "        epoch_acc += correct\n",
    "        epoch_loss += loss.item()\n",
    "        n_samples += x.size(0)\n",
    "\n",
    "        loss.backward()\n",
    "        opt.step()\n",
    "        \n",
    "        total = y.size(0)\n",
    "\n",
    "\n",
    "    epoch_acc = epoch_acc / n_samples\n",
    "    epoch_loss = epoch_loss / n_samples\n",
    "\n",
    "    return epoch_acc, epoch_loss\n",
    "\n",
    "def test_epoch(model, test_loader, criterion, device):\n",
    "    model.eval()\n",
    "    epoch_loss = 0\n",
    "    epoch_acc = 0\n",
    "    n_samples = 0\n",
    "    with torch.no_grad():\n",
    "        for x,y in test_loader:\n",
    "            x, y = x.to(device), y.to(device)\n",
    "            out = model.forward(x)\n",
    "            loss = criterion(out, y)\n",
    "\n",
    "            epoch_acc += accuracy(out, y)\n",
    "            epoch_loss += loss.item()\n",
    "            n_samples += x.size(0)\n",
    "\n",
    "    epoch_acc = epoch_acc / n_samples\n",
    "    epoch_loss = epoch_loss / n_samples\n",
    "\n",
    "    return epoch_acc, epoch_loss\n",
    "\n",
    "def display_grayscale(tensor):\n",
    "    ''' show single tensor as grayscale image'''\n",
    "    plt.imshow(tensor, cmap='gray')\n",
    "    plt.show()"
   ]
  },
  {
   "cell_type": "markdown",
   "metadata": {
    "id": "GhA5cWP0xXEk"
   },
   "source": [
    "# Data processing"
   ]
  },
  {
   "cell_type": "markdown",
   "metadata": {
    "id": "YkkRJKxEtF0z"
   },
   "source": [
    "Define a class to apply imbalance to your datasets"
   ]
  },
  {
   "cell_type": "code",
   "execution_count": 131,
   "metadata": {
    "id": "QuqRk-63tF00"
   },
   "outputs": [],
   "source": [
    "class Dataset_Preprocessor:\n",
    "    ''' class around MNIST object for applying imbalance to its dataset '''\n",
    "    def __init__(self, dataset=\"MNIST\"):\n",
    "        \n",
    "        # Convert imgs to tensor and normalize by mean and stddev of the training set\n",
    "        if dataset == 'MNIST':\n",
    "            transformImg = torchvision.transforms.Compose([torchvision.transforms.ToTensor(),\n",
    "                                                   torchvision.transforms.Normalize((0.1307,), (0.3081,))])\n",
    "\n",
    "\n",
    "            self.dataset = MNIST(root='./data', train=True, download=True, transform=transformImg)\n",
    "\n",
    "            \n",
    "        elif dataset == \"CIFAR10\":\n",
    "            transformImg = torchvision.transforms.Compose([\n",
    "                torchvision.transforms.RandomCrop(32, padding=4),\n",
    "                torchvision.transforms.RandomHorizontalFlip(),\n",
    "                torchvision.transforms.ToTensor(),\n",
    "                torchvision.transforms.Normalize((0.4914, 0.4822, 0.4465), (0.2023, 0.1994, 0.2010)),\n",
    "            ])\n",
    "            \n",
    "            self.dataset = CIFAR10(root='./data', train=True, download=True, transform=transformImg)\n",
    "            self.dataset.targets = torch.tensor(self.dataset.targets)\n",
    "        \n",
    "        else:\n",
    "            print(\"Not a valid dataset, use 'MNIST' or 'CIFAR10.'\")\n",
    "            return\n",
    "        \n",
    "        self.class_order = [0, 1, 2, 3, 4, 5, 6, 7, 8, 9]\n",
    "        self.selection_dict = dict()\n",
    "        self.shuffle()\n",
    "        self.dataloader = DataLoader(self.dataset, batch_size=128, num_workers=4, shuffle=True, pin_memory=True)\n",
    "    \n",
    "    \n",
    "    \n",
    "    def shuffle(self):\n",
    "        ''' shuffle dataset '''\n",
    "        # generate random ordered indeces for dataset\n",
    "        datapoints = self.dataset.data.shape[0]\n",
    "        rand_idx = torch.randperm(datapoints)\n",
    "\n",
    "        # shuffle data and targets in the same way\n",
    "        self.dataset.data = self.dataset.data[rand_idx]\n",
    "        self.dataset.targets = self.dataset.targets[rand_idx]\n",
    "    \n",
    "    \n",
    "    \n",
    "    def keep_selection(self, target, selection):\n",
    "        ''' create imbalance in single class of a dataset '''\n",
    "\n",
    "        # get indices of imgs of target number and remove selection of the indices\n",
    "        target_mask = self.dataset.targets == target\n",
    "        selection_idx = target_mask.nonzero()[round(len(target_mask.nonzero())*selection):]\n",
    "\n",
    "        # make mask wich selects all data except for indices in selection\n",
    "        selection_mask = np.ones(len(self.dataset.data), dtype=bool)\n",
    "        selection_mask[selection_idx] = False\n",
    "        \n",
    "        # apply mask to remove the selected data\n",
    "        self.dataset.data = self.dataset.data[selection_mask]\n",
    "        self.dataset.targets = self.dataset.targets[selection_mask]\n",
    "\n",
    "    \n",
    "    \n",
    "    def apply_imbalance(self):\n",
    "        ''' create imbalance in dataset according to selection dict '''\n",
    "\n",
    "        # throw away a part of the data for each class\n",
    "        for target, selection in self.selection_dict.items():\n",
    "            self.keep_selection(target, selection)\n",
    "        \n",
    "        self.dataloader = DataLoader(self.dataset, batch_size=128, num_workers=4, shuffle=True, pin_memory=True)\n",
    "        self.wrs_dataloader = self.apply_weighted_random_sampler()\n",
    "        \n",
    "        \n",
    "    def balance(self):\n",
    "        self.selection_dict = dict()\n",
    "        self.apply_imbalance()\n",
    "        return self.selection_dict\n",
    "        \n",
    "        \n",
    "        \n",
    "    def linear_imbalance(self, rho, apply=True):\n",
    "        ''' create selection dict with linear imbalance '''\n",
    "        \n",
    "        min_examples = 1 / rho\n",
    "        \n",
    "        n_steps = len(self.class_order) - 1\n",
    "        linear_step = (1.0 - min_examples) / n_steps\n",
    "\n",
    "        # interpolate the classes between the minimum and maximum linearly\n",
    "        for i, data_class in enumerate(reversed(self.class_order)):\n",
    "            self.selection_dict[data_class] = min_examples + (i * linear_step)\n",
    "        \n",
    "        if apply:\n",
    "            self.apply_imbalance()\n",
    "\n",
    "        return self.selection_dict\n",
    "\n",
    "            \n",
    "            \n",
    "    def step_imbalance(self, rho, mu, apply=True):\n",
    "        ''' create selection dict with step imbalance '''\n",
    "        \n",
    "        min_examples = 1 / rho\n",
    "        \n",
    "        \n",
    "        n_classes = len(self.class_order)\n",
    "        step_index = int(mu * n_classes)\n",
    "\n",
    "        for i, data_class in enumerate(reversed(self.class_order)):\n",
    "            if i < step_index:\n",
    "                self.selection_dict[data_class] = min_examples\n",
    "            else:\n",
    "                self.selection_dict[data_class] = 1.0\n",
    "\n",
    "        if apply:\n",
    "            self.apply_imbalance()\n",
    "            \n",
    "        return self.selection_dict\n",
    "\n",
    "\n",
    "                  \n",
    "    def long_tailed_imbalance(self, ratio, apply=True):\n",
    "        ''' create selection dict with long-tailed imbalance '''\n",
    "        \n",
    "        # determine mu from ratio\n",
    "        mu = (1/ratio)**(1/(len(self.class_order) - 1))\n",
    "        \n",
    "        # set selection for each class according to long-tailed function, mu is in (0,1)\n",
    "        for i, data_class in enumerate(self.class_order):\n",
    "            self.selection_dict[data_class] = mu**i\n",
    "\n",
    "        if apply:\n",
    "            self.apply_imbalance()\n",
    "        \n",
    "        return self.selection_dict\n",
    "    \n",
    "    \n",
    "    \n",
    "    def apply_weighted_random_sampler(self):\n",
    "        ''' \n",
    "        return dataloader using weighted random sampling\n",
    "        modified from https://discuss.pytorch.org/t/how-to-handle-imbalanced-classes/11264 \n",
    "        by user ptrblck\n",
    "        '''\n",
    "        \n",
    "        # get sample count per class\n",
    "        class_sample_count = np.unique(self.dataset.targets, return_counts=True)[1]\n",
    "        \n",
    "        weight = 1. / class_sample_count\n",
    "        \n",
    "        # define weight per sample\n",
    "        samples_weight = weight[self.dataset.targets]\n",
    "        samples_weight = torch.from_numpy(samples_weight)\n",
    "        \n",
    "        sampler = WeightedRandomSampler(samples_weight, len(samples_weight))\n",
    "        \n",
    "        # define weight usable for loss functions\n",
    "        self.weight = torch.FloatTensor(weight / weight.sum())\n",
    "        \n",
    "        return DataLoader(self.dataset, batch_size=128, num_workers=4, pin_memory=True, sampler=sampler)\n",
    "    \n",
    "    \n",
    "    \n",
    "    def plot(self, title, color='r'):\n",
    "        ''' plot the imbalance created by an imbalance function '''\n",
    "        \n",
    "        plt.bar(self.selection_dict.keys(), self.selection_dict.values(), color=color)\n",
    "        plt.title(title)\n",
    "        plt.show()"
   ]
  },
  {
   "cell_type": "markdown",
   "metadata": {
    "id": "5yvQCbIEyN2w"
   },
   "source": [
    "# Model training"
   ]
  },
  {
   "cell_type": "markdown",
   "metadata": {
    "id": "7w97dpw3dyde"
   },
   "source": [
    "Functions for training models"
   ]
  },
  {
   "cell_type": "code",
   "execution_count": 143,
   "metadata": {
    "id": "D28i0tp6VqTZ"
   },
   "outputs": [],
   "source": [
    "# Focal Loss function taken from https://github.com/gokulprasadthekkel/pytorch-multi-class-focal-loss\n",
    "class FocalLoss(nn.modules.loss._WeightedLoss):\n",
    "    def __init__(self, weight=None, gamma=2, reduction='mean'):\n",
    "        super(FocalLoss, self).__init__(weight, reduction=reduction)\n",
    "        self.gamma = gamma\n",
    "        self.weight = weight # weight parameter will act as the alpha parameter to balance class weights\n",
    "        self.reduction = reduction\n",
    "        \n",
    "    def forward(self, input, target):\n",
    "        ce_loss = F.cross_entropy(input, target,reduction=self.reduction, weight=self.weight)\n",
    "        pt = torch.exp(-ce_loss)\n",
    "        focal_loss = ((1 - pt) ** self.gamma * ce_loss).mean()\n",
    "        return focal_loss\n",
    "\n",
    "\n",
    "    \n",
    "def train_model(train_loader, description=\"\", model=LeNet5(), loss_func=\"CE\", weight=None, gamma=2, \n",
    "                test=False, test_loader=test_loader, log=False):\n",
    "    ''' train on data loader, and return trained model '''\n",
    "    \n",
    "    # Determine loss function\n",
    "    if loss_func == \"CE\":\n",
    "        criterion = nn.CrossEntropyLoss(weight=weight)\n",
    "    elif loss_func == \"FL\":\n",
    "        FL = FocalLoss(weight=weight, gamma=gamma)\n",
    "        criterion = FL.forward\n",
    "    else:\n",
    "        print(\"That is not a valid loss function.\")\n",
    "        return\n",
    "    \n",
    "    device = 'cuda' if torch.cuda.is_available() else 'cpu'\n",
    "    n_epochs = 10\n",
    "    if log:\n",
    "        writer = SummaryWriter(f'runs/{description}')\n",
    "        \n",
    "    model = model.to(device)\n",
    "    opt = optim.SGD(model.parameters(), lr=1e-2)\n",
    "\n",
    "    # Train+test, log to tensorboard\n",
    "    # It's recommended to also print all the scalar values\n",
    "    for i in range(n_epochs):\n",
    "        sys.stdout.write(f\"\\repoch {i + 1}/{n_epochs}\")\n",
    "        sys.stdout.flush()\n",
    "        train_acc, train_loss = train_epoch(model, opt, train_loader, criterion, device)\n",
    "        \n",
    "        if log:\n",
    "            writer.add_scalar('train/acc', train_acc, i+1)\n",
    "            writer.add_scalar('train/loss', train_loss, i+1)\n",
    "        \n",
    "        if test:\n",
    "            test_acc, test_loss = test_epoch(model, test_loader, criterion, device)\n",
    "            \n",
    "            if log:\n",
    "                writer.add_scalar('test/acc', test_acc, i+1)\n",
    "                writer.add_scalar('test/loss', test_loss, i+1)\n",
    "            \n",
    "        \n",
    "        \n",
    "    return model"
   ]
  },
  {
   "cell_type": "code",
   "execution_count": 144,
   "metadata": {},
   "outputs": [
    {
     "name": "stdout",
     "output_type": "stream",
     "text": [
      "epoch 10/10"
     ]
    }
   ],
   "source": [
    "train = Dataset_Preprocessor()\n",
    "train.long_tailed_imbalance(100)\n",
    "train_loader = train.dataloader\n",
    "model = train_model(train_loader)"
   ]
  },
  {
   "cell_type": "markdown",
   "metadata": {
    "id": "9p7dzY73mfBQ"
   },
   "source": [
    "# Model Compression\n",
    "Using Channel Pruning and Spatial SVD"
   ]
  },
  {
   "cell_type": "code",
   "execution_count": 75,
   "metadata": {
    "id": "mE-CvbnmmhMl"
   },
   "outputs": [],
   "source": [
    "# Model compressor needs an evaluation function with this specific signature\n",
    "def eval_callback(model, iterations, use_cuda=True):\n",
    "    model.eval()\n",
    "    epoch_acc = 0\n",
    "    n_samples = 0\n",
    "    with torch.no_grad():\n",
    "        for idx,(x,y) in enumerate(test_loader):\n",
    "            if use_cuda:\n",
    "                device = 'cuda' if torch.cuda.is_available() else 'cpu'\n",
    "                x, y = x.to(device), y.to(device)\n",
    "\n",
    "            out = model.forward(x)\n",
    "            epoch_acc += accuracy(out, y)\n",
    "            n_samples += x.size(0)\n",
    "\n",
    "            if iterations is not None:\n",
    "                if idx == iterations:\n",
    "                    break\n",
    "        epoch_acc = epoch_acc / n_samples\n",
    "\n",
    "    return epoch_acc"
   ]
  },
  {
   "cell_type": "markdown",
   "metadata": {
    "id": "IwJ-IiuZ0hz-"
   },
   "source": [
    "Define model compression"
   ]
  },
  {
   "cell_type": "code",
   "execution_count": 76,
   "metadata": {
    "id": "cyc281QHtF1A"
   },
   "outputs": [],
   "source": [
    "def compress_auto(model, comp_ratio, method, cost=\"mac\", data=None, input_shape=(1, 1, 28, 28)):\n",
    "    \"\"\"\n",
    "    Compresses a trained model to a certain ratio. Uses the user specified\n",
    "    compression method. There are two options: \"svd\" or \"prun\".\n",
    "    If using \"prun\" method, user needs to provide data.\n",
    "    Returns the compressed model and a list containing:\n",
    "    1. baseline_model_accuracy,\n",
    "    2. compressed_model_accuracy,\n",
    "    3. mac_compression_ratio, \n",
    "    4. memory_compression_ratio.\n",
    "    \"\"\"\n",
    "    greedy_params = GreedySelectionParameters(target_comp_ratio=Decimal(comp_ratio))\n",
    "    \n",
    "    if cost == \"mac\": \n",
    "        cost_metric = CostMetric.mac\n",
    "    elif cost == \"memory\":\n",
    "        cost_metric = CostMetric.memory\n",
    "    else:\n",
    "        print(\"Unvalid cost metric, try again.\")\n",
    "        return\n",
    "    \n",
    "    if method == \"svd\":      \n",
    "        auto_params = SpatialSvdParameters.AutoModeParams(greedy_params, [])\n",
    "        spatial_svd_params = SpatialSvdParameters(mode=SpatialSvdParameters.Mode.auto,\n",
    "                                                              params=auto_params)\n",
    "        compress_scheme = CompressionScheme.spatial_svd\n",
    "        compress_params = spatial_svd_params\n",
    " \n",
    "    elif method == \"prun\":\n",
    "        if data is None:\n",
    "            print('Must provide data loader when using \"prun\"')\n",
    "            return\n",
    "        \n",
    "        # Exclude first layer from pruning\n",
    "        modules_to_ignore = [model.convs[0]]\n",
    "        auto_params = ChannelPruningParameters.AutoModeParams(greedy_params, modules_to_ignore)\n",
    "        channel_pruning_parameters = ChannelPruningParameters(mode=ChannelPruningParameters.Mode.auto,\n",
    "                                                              params=auto_params,\n",
    "                                                              data_loader=train_loader,\n",
    "                                                              num_reconstruction_samples=1024,\n",
    "                                                              allow_custom_downsample_ops=False\n",
    "                                                              )\n",
    "        compress_scheme = CompressionScheme.channel_pruning\n",
    "        compress_params = channel_pruning_parameters\n",
    "    \n",
    "    else:\n",
    "        print(\"Unknown method\")\n",
    "        return\n",
    "\n",
    "    comp_model, stats = ModelCompressor.compress_model(model,\n",
    "                                                        input_shape=input_shape,\n",
    "                                                        eval_callback=eval_callback,\n",
    "                                                        eval_iterations=None,\n",
    "                                                        compress_scheme=compress_scheme,\n",
    "                                                        cost_metric=cost_metric,\n",
    "                                                        parameters=compress_params\n",
    "                                                        )\n",
    "    compare_mod = [stats.mac_compression_ratio, \n",
    "                   stats.memory_compression_ratio]\n",
    "    \n",
    "    return comp_model, compare_mod\n",
    "\n",
    "\n",
    "\n",
    "def compress_manual(model, comp_ratio, method, cost=\"mac\", data=None, input_shape=(1, 1, 28, 28)):\n",
    "    \"\"\"\n",
    "    Compresses a trained model to a certain ratio. Uses the user specified\n",
    "    compression method. There are two options: \"svd\" or \"prun\".\n",
    "    If using \"prun\" method, user needs to provide data.\n",
    "    Returns the compressed model and a list containing:\n",
    "    1. baseline_model_accuracy,\n",
    "    2. compressed_model_accuracy,\n",
    "    3. mac_compression_ratio, \n",
    "    4. memory_compression_ratio.\n",
    "    \"\"\"   \n",
    "    if cost == \"mac\": \n",
    "        cost_metric = CostMetric.mac\n",
    "    elif cost == \"memory\":\n",
    "        cost_metric = CostMetric.memory\n",
    "    else:\n",
    "        print(\"Unvalid cost metric, try again.\")\n",
    "        return\n",
    "\n",
    "    if method == \"svd\":      \n",
    "        manual_params = SpatialSvdParameters.ManualModeParams([ModuleCompRatioPair(model.convs[0], comp_ratio),\n",
    "                                                              ModuleCompRatioPair(model.convs[3], comp_ratio)])\n",
    "        spatial_svd_params = SpatialSvdParameters(mode=SpatialSvdParameters.Mode.manual,\n",
    "                                                  params=manual_params)\n",
    "        compress_scheme = CompressionScheme.spatial_svd\n",
    "        compress_params = spatial_svd_params\n",
    " \n",
    "    elif method == \"prun\":\n",
    "        if data is None:\n",
    "            print('Must provide data loader when using \"prun\"')\n",
    "            return\n",
    "        \n",
    "        manual_params = ChannelPruningParameters.ManualModeParams([ModuleCompRatioPair(model.convs[3], comp_ratio)])\n",
    "        channel_pruning_parameters = ChannelPruningParameters(mode=ChannelPruningParameters.Mode.manual,\n",
    "                                                      params=manual_params,\n",
    "                                                      data_loader=train_loader,\n",
    "                                                      num_reconstruction_samples=1024,\n",
    "                                                      allow_custom_downsample_ops=False\n",
    "                                                      )\n",
    "        compress_scheme = CompressionScheme.channel_pruning\n",
    "        compress_params = channel_pruning_parameters\n",
    "    \n",
    "    else:\n",
    "        print(\"Unknown method\")\n",
    "        return\n",
    "\n",
    "\n",
    "    comp_model, stats = ModelCompressor.compress_model(model,\n",
    "                                                        input_shape=input_shape,\n",
    "                                                        eval_callback=eval_callback,\n",
    "                                                        eval_iterations=None,\n",
    "                                                        compress_scheme=compress_scheme,\n",
    "                                                        cost_metric=cost_metric,\n",
    "                                                        parameters=compress_params\n",
    "                                                        )\n",
    "    compare_mod = [stats.mac_compression_ratio, \n",
    "                   stats.memory_compression_ratio]\n",
    "    \n",
    "    return comp_model, compare_mod"
   ]
  },
  {
   "cell_type": "markdown",
   "metadata": {
    "id": "M033akVr5wb6"
   },
   "source": [
    "Define F1-score function"
   ]
  },
  {
   "cell_type": "code",
   "execution_count": 77,
   "metadata": {
    "id": "YPRKH0dX5vtu"
   },
   "outputs": [],
   "source": [
    "def model_f1_score(model, test_loader):\n",
    "    ''' compute the F1 score of a model on a test dataloader '''\n",
    "    model.eval()\n",
    "    device = 'cuda' if torch.cuda.is_available() else 'cpu'\n",
    "    y_pred = []\n",
    "    y_true = []\n",
    "    with torch.no_grad():\n",
    "        for x,y in test_loader:\n",
    "            x, y = x.to(device), y.to(device)\n",
    "            out = model.forward(x)\n",
    "            preds = out.argmax(dim=1, keepdim=True).squeeze()\n",
    "            y_pred += preds.squeeze().tolist()\n",
    "            y_true += y.squeeze().tolist()\n",
    "    return f1_score(y_true, y_pred, average='weighted')"
   ]
  },
  {
   "cell_type": "markdown",
   "metadata": {
    "id": "pW_XJaFxlWFk"
   },
   "source": [
    "Opening a tensorboard"
   ]
  },
  {
   "cell_type": "code",
   "execution_count": 78,
   "metadata": {
    "id": "A3fkVkHYfMi9"
   },
   "outputs": [
    {
     "name": "stdout",
     "output_type": "stream",
     "text": [
      "Requirement already satisfied: tensorboard-plugin-wit in /usr/local/lib/python3.6/dist-packages\n",
      "\u001b[33mYou are using pip version 9.0.1, however version 20.3.3 is available.\n",
      "You should consider upgrading via the 'pip install --upgrade pip' command.\u001b[0m\n"
     ]
    },
    {
     "data": {
      "text/plain": [
       "Reusing TensorBoard on port 6006 (pid 10813), started 2 days, 5:07:48 ago. (Use '!kill 10813' to kill it.)"
      ]
     },
     "metadata": {},
     "output_type": "display_data"
    },
    {
     "data": {
      "text/html": [
       "\n",
       "      <iframe id=\"tensorboard-frame-9182b36d49d88cc0\" width=\"100%\" height=\"800\" frameborder=\"0\">\n",
       "      </iframe>\n",
       "      <script>\n",
       "        (function() {\n",
       "          const frame = document.getElementById(\"tensorboard-frame-9182b36d49d88cc0\");\n",
       "          const url = new URL(\"/\", window.location);\n",
       "          url.port = 6006;\n",
       "          frame.src = url;\n",
       "        })();\n",
       "      </script>\n",
       "  "
      ],
      "text/plain": [
       "<IPython.core.display.HTML object>"
      ]
     },
     "metadata": {},
     "output_type": "display_data"
    }
   ],
   "source": [
    "%reload_ext tensorboard\n",
    "!pip3 install tensorboard-plugin-wit\n",
    "%tensorboard --logdir ./runs "
   ]
  },
  {
   "cell_type": "markdown",
   "metadata": {
    "id": "4VWeGWNyy8qL"
   },
   "source": [
    "### Research Question 1\n",
    "Using a compression ratio of 0.5 on both channel pruning and spatial SVD.\n",
    "Long-tail imbalanced is used with a ratio of 10 (most frequent class appears 10 times more often than least frequent class)."
   ]
  },
  {
   "cell_type": "code",
   "execution_count": 79,
   "metadata": {
    "id": "4j16SWs7tF1C"
   },
   "outputs": [],
   "source": [
    "# Define the dataloader\n",
    "train_bal = Dataset_Preprocessor()\n",
    "train_loader = train_bal.dataloader\n",
    "train_imbal = Dataset_Preprocessor()\n",
    "train_imbal.long_tailed_imbalance(10)\n",
    "train_imbal_loader = train_imbal.dataloader\n",
    "\n",
    "model_bal = train_model(train_loader, \"Balanced\")\n",
    "model_imbal = train_model(train_imbal_loader, \"Imbalanced\")\n",
    "\n",
    "f1_bal = model_f1_score(model_bal, test_loader)\n",
    "f1_imbal = model_f1_score(model_imbal, test_loader)"
   ]
  },
  {
   "cell_type": "code",
   "execution_count": null,
   "metadata": {
    "id": "osGhuAjCtF1C",
    "scrolled": true
   },
   "outputs": [
    {
     "name": "stdout",
     "output_type": "stream",
     "text": [
      "2021-01-18 22:35:45,522 - Svd - INFO - Spatial SVD splitting layer: convs.0 using rank: 2\n",
      "2021-01-18 22:35:45,529 - Svd - INFO - Spatial SVD splitting layer: convs.3 using rank: 10\n",
      "2021-01-18 22:36:01,189 - Svd - INFO - Spatial SVD splitting layer: convs.0 using rank: 2\n",
      "2021-01-18 22:36:01,202 - Svd - INFO - Spatial SVD splitting layer: convs.3 using rank: 10\n"
     ]
    }
   ],
   "source": [
    "comp_model_bal_svd, stats_bal = compress_manual(model_bal, 0.5, \"svd\", cost=\"memory\")\n",
    "comp_model_imbal_svd, stats_imbal = compress_manual(model_imbal, 0.5, \"svd\", cost=\"memory\")"
   ]
  },
  {
   "cell_type": "code",
   "execution_count": 14,
   "metadata": {
    "id": "udaU9htL26WR",
    "outputId": "074b29b8-1c1f-4ad6-8798-52121b75c1fd"
   },
   "outputs": [
    {
     "ename": "AssertionError",
     "evalue": "\nFound no NVIDIA driver on your system. Please check that you\nhave an NVIDIA GPU and installed a driver from\nhttp://www.nvidia.com/Download/index.aspx",
     "output_type": "error",
     "traceback": [
      "\u001b[0;31m---------------------------------------------------------------------------\u001b[0m",
      "\u001b[0;31mAssertionError\u001b[0m                            Traceback (most recent call last)",
      "\u001b[0;32m<ipython-input-14-4f07d71fc170>\u001b[0m in \u001b[0;36m<module>\u001b[0;34m\u001b[0m\n\u001b[0;32m----> 1\u001b[0;31m \u001b[0mget_ipython\u001b[0m\u001b[0;34m(\u001b[0m\u001b[0;34m)\u001b[0m\u001b[0;34m.\u001b[0m\u001b[0mrun_line_magic\u001b[0m\u001b[0;34m(\u001b[0m\u001b[0;34m'timeit'\u001b[0m\u001b[0;34m,\u001b[0m \u001b[0;34m'acc_full = eval_callback(model_bal, None, use_cuda=True)'\u001b[0m\u001b[0;34m)\u001b[0m\u001b[0;34m\u001b[0m\u001b[0;34m\u001b[0m\u001b[0m\n\u001b[0m\u001b[1;32m      2\u001b[0m \u001b[0mget_ipython\u001b[0m\u001b[0;34m(\u001b[0m\u001b[0;34m)\u001b[0m\u001b[0;34m.\u001b[0m\u001b[0mrun_line_magic\u001b[0m\u001b[0;34m(\u001b[0m\u001b[0;34m'timeit'\u001b[0m\u001b[0;34m,\u001b[0m \u001b[0;34m'acc_comp = eval_callback(comp_model_bal_svd, None, use_cuda=True)'\u001b[0m\u001b[0;34m)\u001b[0m\u001b[0;34m\u001b[0m\u001b[0;34m\u001b[0m\u001b[0m\n",
      "\u001b[0;32m/usr/local/lib/python3.6/dist-packages/IPython/core/interactiveshell.py\u001b[0m in \u001b[0;36mrun_line_magic\u001b[0;34m(self, magic_name, line, _stack_depth)\u001b[0m\n\u001b[1;32m   2312\u001b[0m                 \u001b[0mkwargs\u001b[0m\u001b[0;34m[\u001b[0m\u001b[0;34m'local_ns'\u001b[0m\u001b[0;34m]\u001b[0m \u001b[0;34m=\u001b[0m \u001b[0msys\u001b[0m\u001b[0;34m.\u001b[0m\u001b[0m_getframe\u001b[0m\u001b[0;34m(\u001b[0m\u001b[0mstack_depth\u001b[0m\u001b[0;34m)\u001b[0m\u001b[0;34m.\u001b[0m\u001b[0mf_locals\u001b[0m\u001b[0;34m\u001b[0m\u001b[0;34m\u001b[0m\u001b[0m\n\u001b[1;32m   2313\u001b[0m             \u001b[0;32mwith\u001b[0m \u001b[0mself\u001b[0m\u001b[0;34m.\u001b[0m\u001b[0mbuiltin_trap\u001b[0m\u001b[0;34m:\u001b[0m\u001b[0;34m\u001b[0m\u001b[0;34m\u001b[0m\u001b[0m\n\u001b[0;32m-> 2314\u001b[0;31m                 \u001b[0mresult\u001b[0m \u001b[0;34m=\u001b[0m \u001b[0mfn\u001b[0m\u001b[0;34m(\u001b[0m\u001b[0;34m*\u001b[0m\u001b[0margs\u001b[0m\u001b[0;34m,\u001b[0m \u001b[0;34m**\u001b[0m\u001b[0mkwargs\u001b[0m\u001b[0;34m)\u001b[0m\u001b[0;34m\u001b[0m\u001b[0;34m\u001b[0m\u001b[0m\n\u001b[0m\u001b[1;32m   2315\u001b[0m             \u001b[0;32mreturn\u001b[0m \u001b[0mresult\u001b[0m\u001b[0;34m\u001b[0m\u001b[0;34m\u001b[0m\u001b[0m\n\u001b[1;32m   2316\u001b[0m \u001b[0;34m\u001b[0m\u001b[0m\n",
      "\u001b[0;32m</usr/local/lib/python3.6/dist-packages/decorator.py:decorator-gen-60>\u001b[0m in \u001b[0;36mtimeit\u001b[0;34m(self, line, cell, local_ns)\u001b[0m\n",
      "\u001b[0;32m/usr/local/lib/python3.6/dist-packages/IPython/core/magic.py\u001b[0m in \u001b[0;36m<lambda>\u001b[0;34m(f, *a, **k)\u001b[0m\n\u001b[1;32m    185\u001b[0m     \u001b[0;31m# but it's overkill for just that one bit of state.\u001b[0m\u001b[0;34m\u001b[0m\u001b[0;34m\u001b[0m\u001b[0;34m\u001b[0m\u001b[0m\n\u001b[1;32m    186\u001b[0m     \u001b[0;32mdef\u001b[0m \u001b[0mmagic_deco\u001b[0m\u001b[0;34m(\u001b[0m\u001b[0marg\u001b[0m\u001b[0;34m)\u001b[0m\u001b[0;34m:\u001b[0m\u001b[0;34m\u001b[0m\u001b[0;34m\u001b[0m\u001b[0m\n\u001b[0;32m--> 187\u001b[0;31m         \u001b[0mcall\u001b[0m \u001b[0;34m=\u001b[0m \u001b[0;32mlambda\u001b[0m \u001b[0mf\u001b[0m\u001b[0;34m,\u001b[0m \u001b[0;34m*\u001b[0m\u001b[0ma\u001b[0m\u001b[0;34m,\u001b[0m \u001b[0;34m**\u001b[0m\u001b[0mk\u001b[0m\u001b[0;34m:\u001b[0m \u001b[0mf\u001b[0m\u001b[0;34m(\u001b[0m\u001b[0;34m*\u001b[0m\u001b[0ma\u001b[0m\u001b[0;34m,\u001b[0m \u001b[0;34m**\u001b[0m\u001b[0mk\u001b[0m\u001b[0;34m)\u001b[0m\u001b[0;34m\u001b[0m\u001b[0;34m\u001b[0m\u001b[0m\n\u001b[0m\u001b[1;32m    188\u001b[0m \u001b[0;34m\u001b[0m\u001b[0m\n\u001b[1;32m    189\u001b[0m         \u001b[0;32mif\u001b[0m \u001b[0mcallable\u001b[0m\u001b[0;34m(\u001b[0m\u001b[0marg\u001b[0m\u001b[0;34m)\u001b[0m\u001b[0;34m:\u001b[0m\u001b[0;34m\u001b[0m\u001b[0;34m\u001b[0m\u001b[0m\n",
      "\u001b[0;32m/usr/local/lib/python3.6/dist-packages/IPython/core/magics/execution.py\u001b[0m in \u001b[0;36mtimeit\u001b[0;34m(self, line, cell, local_ns)\u001b[0m\n\u001b[1;32m   1156\u001b[0m             \u001b[0;32mfor\u001b[0m \u001b[0mindex\u001b[0m \u001b[0;32min\u001b[0m \u001b[0mrange\u001b[0m\u001b[0;34m(\u001b[0m\u001b[0;36m0\u001b[0m\u001b[0;34m,\u001b[0m \u001b[0;36m10\u001b[0m\u001b[0;34m)\u001b[0m\u001b[0;34m:\u001b[0m\u001b[0;34m\u001b[0m\u001b[0;34m\u001b[0m\u001b[0m\n\u001b[1;32m   1157\u001b[0m                 \u001b[0mnumber\u001b[0m \u001b[0;34m=\u001b[0m \u001b[0;36m10\u001b[0m \u001b[0;34m**\u001b[0m \u001b[0mindex\u001b[0m\u001b[0;34m\u001b[0m\u001b[0;34m\u001b[0m\u001b[0m\n\u001b[0;32m-> 1158\u001b[0;31m                 \u001b[0mtime_number\u001b[0m \u001b[0;34m=\u001b[0m \u001b[0mtimer\u001b[0m\u001b[0;34m.\u001b[0m\u001b[0mtimeit\u001b[0m\u001b[0;34m(\u001b[0m\u001b[0mnumber\u001b[0m\u001b[0;34m)\u001b[0m\u001b[0;34m\u001b[0m\u001b[0;34m\u001b[0m\u001b[0m\n\u001b[0m\u001b[1;32m   1159\u001b[0m                 \u001b[0;32mif\u001b[0m \u001b[0mtime_number\u001b[0m \u001b[0;34m>=\u001b[0m \u001b[0;36m0.2\u001b[0m\u001b[0;34m:\u001b[0m\u001b[0;34m\u001b[0m\u001b[0;34m\u001b[0m\u001b[0m\n\u001b[1;32m   1160\u001b[0m                     \u001b[0;32mbreak\u001b[0m\u001b[0;34m\u001b[0m\u001b[0;34m\u001b[0m\u001b[0m\n",
      "\u001b[0;32m/usr/local/lib/python3.6/dist-packages/IPython/core/magics/execution.py\u001b[0m in \u001b[0;36mtimeit\u001b[0;34m(self, number)\u001b[0m\n\u001b[1;32m    167\u001b[0m         \u001b[0mgc\u001b[0m\u001b[0;34m.\u001b[0m\u001b[0mdisable\u001b[0m\u001b[0;34m(\u001b[0m\u001b[0;34m)\u001b[0m\u001b[0;34m\u001b[0m\u001b[0;34m\u001b[0m\u001b[0m\n\u001b[1;32m    168\u001b[0m         \u001b[0;32mtry\u001b[0m\u001b[0;34m:\u001b[0m\u001b[0;34m\u001b[0m\u001b[0;34m\u001b[0m\u001b[0m\n\u001b[0;32m--> 169\u001b[0;31m             \u001b[0mtiming\u001b[0m \u001b[0;34m=\u001b[0m \u001b[0mself\u001b[0m\u001b[0;34m.\u001b[0m\u001b[0minner\u001b[0m\u001b[0;34m(\u001b[0m\u001b[0mit\u001b[0m\u001b[0;34m,\u001b[0m \u001b[0mself\u001b[0m\u001b[0;34m.\u001b[0m\u001b[0mtimer\u001b[0m\u001b[0;34m)\u001b[0m\u001b[0;34m\u001b[0m\u001b[0;34m\u001b[0m\u001b[0m\n\u001b[0m\u001b[1;32m    170\u001b[0m         \u001b[0;32mfinally\u001b[0m\u001b[0;34m:\u001b[0m\u001b[0;34m\u001b[0m\u001b[0;34m\u001b[0m\u001b[0m\n\u001b[1;32m    171\u001b[0m             \u001b[0;32mif\u001b[0m \u001b[0mgcold\u001b[0m\u001b[0;34m:\u001b[0m\u001b[0;34m\u001b[0m\u001b[0;34m\u001b[0m\u001b[0m\n",
      "\u001b[0;32m<magic-timeit>\u001b[0m in \u001b[0;36minner\u001b[0;34m(_it, _timer)\u001b[0m\n",
      "\u001b[0;32m<ipython-input-8-726d7ca9fae0>\u001b[0m in \u001b[0;36meval_callback\u001b[0;34m(model, iterations, use_cuda)\u001b[0m\n\u001b[1;32m      7\u001b[0m         \u001b[0;32mfor\u001b[0m \u001b[0midx\u001b[0m\u001b[0;34m,\u001b[0m\u001b[0;34m(\u001b[0m\u001b[0mx\u001b[0m\u001b[0;34m,\u001b[0m\u001b[0my\u001b[0m\u001b[0;34m)\u001b[0m \u001b[0;32min\u001b[0m \u001b[0menumerate\u001b[0m\u001b[0;34m(\u001b[0m\u001b[0mtest_loader\u001b[0m\u001b[0;34m)\u001b[0m\u001b[0;34m:\u001b[0m\u001b[0;34m\u001b[0m\u001b[0;34m\u001b[0m\u001b[0m\n\u001b[1;32m      8\u001b[0m             \u001b[0;32mif\u001b[0m \u001b[0muse_cuda\u001b[0m\u001b[0;34m:\u001b[0m\u001b[0;34m\u001b[0m\u001b[0;34m\u001b[0m\u001b[0m\n\u001b[0;32m----> 9\u001b[0;31m                 \u001b[0mx\u001b[0m\u001b[0;34m,\u001b[0m \u001b[0my\u001b[0m \u001b[0;34m=\u001b[0m \u001b[0mx\u001b[0m\u001b[0;34m.\u001b[0m\u001b[0mto\u001b[0m\u001b[0;34m(\u001b[0m\u001b[0;34m'cuda:0'\u001b[0m\u001b[0;34m)\u001b[0m\u001b[0;34m,\u001b[0m \u001b[0my\u001b[0m\u001b[0;34m.\u001b[0m\u001b[0mto\u001b[0m\u001b[0;34m(\u001b[0m\u001b[0;34m'cuda:0'\u001b[0m\u001b[0;34m)\u001b[0m\u001b[0;34m\u001b[0m\u001b[0;34m\u001b[0m\u001b[0m\n\u001b[0m\u001b[1;32m     10\u001b[0m \u001b[0;34m\u001b[0m\u001b[0m\n\u001b[1;32m     11\u001b[0m             \u001b[0mout\u001b[0m \u001b[0;34m=\u001b[0m \u001b[0mmodel\u001b[0m\u001b[0;34m.\u001b[0m\u001b[0mforward\u001b[0m\u001b[0;34m(\u001b[0m\u001b[0mx\u001b[0m\u001b[0;34m)\u001b[0m\u001b[0;34m\u001b[0m\u001b[0;34m\u001b[0m\u001b[0m\n",
      "\u001b[0;32m/usr/local/lib/python3.6/dist-packages/torch/cuda/__init__.py\u001b[0m in \u001b[0;36m_lazy_init\u001b[0;34m()\u001b[0m\n\u001b[1;32m    194\u001b[0m             raise RuntimeError(\n\u001b[1;32m    195\u001b[0m                 \"Cannot re-initialize CUDA in forked subprocess. \" + msg)\n\u001b[0;32m--> 196\u001b[0;31m         \u001b[0m_check_driver\u001b[0m\u001b[0;34m(\u001b[0m\u001b[0;34m)\u001b[0m\u001b[0;34m\u001b[0m\u001b[0;34m\u001b[0m\u001b[0m\n\u001b[0m\u001b[1;32m    197\u001b[0m         \u001b[0mtorch\u001b[0m\u001b[0;34m.\u001b[0m\u001b[0m_C\u001b[0m\u001b[0;34m.\u001b[0m\u001b[0m_cuda_init\u001b[0m\u001b[0;34m(\u001b[0m\u001b[0;34m)\u001b[0m\u001b[0;34m\u001b[0m\u001b[0;34m\u001b[0m\u001b[0m\n\u001b[1;32m    198\u001b[0m         \u001b[0m_cudart\u001b[0m \u001b[0;34m=\u001b[0m \u001b[0m_load_cudart\u001b[0m\u001b[0;34m(\u001b[0m\u001b[0;34m)\u001b[0m\u001b[0;34m\u001b[0m\u001b[0;34m\u001b[0m\u001b[0m\n",
      "\u001b[0;32m/usr/local/lib/python3.6/dist-packages/torch/cuda/__init__.py\u001b[0m in \u001b[0;36m_check_driver\u001b[0;34m()\u001b[0m\n\u001b[1;32m     99\u001b[0m \u001b[0mFound\u001b[0m \u001b[0mno\u001b[0m \u001b[0mNVIDIA\u001b[0m \u001b[0mdriver\u001b[0m \u001b[0mon\u001b[0m \u001b[0myour\u001b[0m \u001b[0msystem\u001b[0m\u001b[0;34m.\u001b[0m \u001b[0mPlease\u001b[0m \u001b[0mcheck\u001b[0m \u001b[0mthat\u001b[0m \u001b[0myou\u001b[0m\u001b[0;34m\u001b[0m\u001b[0;34m\u001b[0m\u001b[0m\n\u001b[1;32m    100\u001b[0m \u001b[0mhave\u001b[0m \u001b[0man\u001b[0m \u001b[0mNVIDIA\u001b[0m \u001b[0mGPU\u001b[0m \u001b[0;32mand\u001b[0m \u001b[0minstalled\u001b[0m \u001b[0ma\u001b[0m \u001b[0mdriver\u001b[0m \u001b[0;32mfrom\u001b[0m\u001b[0;34m\u001b[0m\u001b[0;34m\u001b[0m\u001b[0m\n\u001b[0;32m--> 101\u001b[0;31m http://www.nvidia.com/Download/index.aspx\"\"\")\n\u001b[0m\u001b[1;32m    102\u001b[0m         \u001b[0;32melse\u001b[0m\u001b[0;34m:\u001b[0m\u001b[0;34m\u001b[0m\u001b[0;34m\u001b[0m\u001b[0m\n\u001b[1;32m    103\u001b[0m             \u001b[0;31m# TODO: directly link to the alternative bin that needs install\u001b[0m\u001b[0;34m\u001b[0m\u001b[0;34m\u001b[0m\u001b[0;34m\u001b[0m\u001b[0m\n",
      "\u001b[0;31mAssertionError\u001b[0m: \nFound no NVIDIA driver on your system. Please check that you\nhave an NVIDIA GPU and installed a driver from\nhttp://www.nvidia.com/Download/index.aspx"
     ]
    }
   ],
   "source": [
    "%timeit acc_full = eval_callback(model_bal, None, use_cuda=True)\n",
    "%timeit acc_comp = eval_callback(comp_model_bal_svd, None, use_cuda=True)"
   ]
  },
  {
   "cell_type": "markdown",
   "metadata": {
    "id": "76_RbddG70C1"
   },
   "source": [
    "Test F1-score of compressed model."
   ]
  },
  {
   "cell_type": "code",
   "execution_count": null,
   "metadata": {
    "id": "bRXL7cOK726J"
   },
   "outputs": [],
   "source": [
    "f1_bal_svd = model_f1_score(comp_model_bal_svd, test_loader)\n",
    "f1_imbal_svd = model_f1_score(comp_model_imbal_svd, test_loader)"
   ]
  },
  {
   "cell_type": "markdown",
   "metadata": {
    "id": "Kw0UlLV13alk"
   },
   "source": [
    "Test accuracy between balanced and imbalanced models"
   ]
  },
  {
   "cell_type": "code",
   "execution_count": null,
   "metadata": {
    "id": "LjR7Drp-tF1C"
   },
   "outputs": [
    {
     "name": "stdout",
     "output_type": "stream",
     "text": [
      "------------------------BALANCED------------------------\n",
      "F1-score balanced model: 0.8885108806913208\n",
      "F1-score balanced compressed model: 0.8823908045738537\n",
      "------------------------IMBALANCED------------------------\n",
      "F1-score imbalanced model: 0.8254780312496826\n",
      "F1-score imbalanced compressed model: 0.8298498812954888\n"
     ]
    }
   ],
   "source": [
    "# SVD RESULTS\n",
    "# RATIO OF COMPRESSION IS 0.5\n",
    "# RATIO OF IMBALANCE IS 10\n",
    "print(\"------------------------BALANCED------------------------\")\n",
    "print(f\"F1-score balanced model: {f1_bal}\")\n",
    "print(f\"F1-score balanced compressed model: {f1_bal_svd}\")\n",
    "print(\"------------------------IMBALANCED------------------------\")\n",
    "print(f\"F1-score imbalanced model: {f1_imbal}\")\n",
    "print(f\"F1-score imbalanced compressed model: {f1_imbal_svd}\")"
   ]
  },
  {
   "cell_type": "code",
   "execution_count": null,
   "metadata": {
    "id": "KrOYTCGxtF1D",
    "scrolled": true
   },
   "outputs": [
    {
     "name": "stdout",
     "output_type": "stream",
     "text": [
      "2021-01-18 19:49:44,006 - ConnectedGraph - WARNING - Ops with missing modules: ['flatten_6']\n",
      "This can be due to several reasons:\n",
      "1. There is no mapping for the op in ConnectedGraph.op_type_map. Add a mapping for ConnectedGraph to recognize and be able to map the op.\n",
      "2. The op is defined as a functional in the forward function, instead of as a class module. Redefine the op as a class module if possible. Else, check 3.\n",
      "3. This op is one that cannot be defined as a class module, but has not been added to ConnectedGraph.functional_ops. Add to continue.\n"
     ]
    },
    {
     "name": "stderr",
     "output_type": "stream",
     "text": [
      "/workspace/build/staging/universal/lib/python/aimet_torch/winnow/winnow_utils.py:186: UserWarning: To copy construct from a tensor, it is recommended to use sourceTensor.clone().detach() or sourceTensor.clone().detach().requires_grad_(True), rather than torch.tensor(sourceTensor).\n",
      "  result = torch.tensor(tensor)  # pylint: disable=not-callable\n"
     ]
    },
    {
     "name": "stdout",
     "output_type": "stream",
     "text": [
      "2021-01-18 19:49:46,106 - ChannelPruning - INFO - finished linear regression fit \n",
      "2021-01-18 19:49:49,263 - ConnectedGraph - WARNING - Ops with missing modules: ['flatten_6']\n",
      "This can be due to several reasons:\n",
      "1. There is no mapping for the op in ConnectedGraph.op_type_map. Add a mapping for ConnectedGraph to recognize and be able to map the op.\n",
      "2. The op is defined as a functional in the forward function, instead of as a class module. Redefine the op as a class module if possible. Else, check 3.\n",
      "3. This op is one that cannot be defined as a class module, but has not been added to ConnectedGraph.functional_ops. Add to continue.\n",
      "2021-01-18 19:49:51,153 - ChannelPruning - INFO - finished linear regression fit \n"
     ]
    },
    {
     "name": "stderr",
     "output_type": "stream",
     "text": [
      "/workspace/build/staging/universal/lib/python/aimet_torch/winnow/winnow_utils.py:186: UserWarning: To copy construct from a tensor, it is recommended to use sourceTensor.clone().detach() or sourceTensor.clone().detach().requires_grad_(True), rather than torch.tensor(sourceTensor).\n",
      "  result = torch.tensor(tensor)  # pylint: disable=not-callable\n"
     ]
    },
    {
     "name": "stdout",
     "output_type": "stream",
     "text": [
      "2021-01-18 22:41:30,708 - ChannelPruning - INFO - finished linear regression fit \n"
     ]
    }
   ],
   "source": [
    "comp_model_bal_prun, stats_bal = compress_manual(model_bal, 0.5, \"prun\", cost=\"memory\", data=train_imbal_loader)\n",
    "comp_model_imbal_prun, stats_imbal = compress_manual(model_imbal, 0.5, \"prun\", cost=\"memory\", data=train_imbal_loader)\n",
    "\n",
    "f1_bal_prun = model_f1_score(comp_model_bal_prun, test_loader)\n",
    "f1_imbal_prun = model_f1_score(comp_model_imbal_prun, test_loader)"
   ]
  },
  {
   "cell_type": "code",
   "execution_count": null,
   "metadata": {
    "id": "csGIOgRRtF1D",
    "scrolled": true
   },
   "outputs": [
    {
     "name": "stdout",
     "output_type": "stream",
     "text": [
      "------------------------BALANCED------------------------\n",
      "F1-score balanced model: 0.8885108806913208\n",
      "F1-score balanced compressed model: 0.8865969683708745\n",
      "------------------------IMBALANCED------------------------\n",
      "F1-score imbalanced model: 0.8254780312496826\n",
      "F1-score imbalanced compressed model: 0.8256167108489281\n"
     ]
    }
   ],
   "source": [
    "# PRUNING RESULTS\n",
    "# RATIO OF COMPRESSION IS 0.5\n",
    "# RATIO OF IMBALANCE IS 10\n",
    "print(\"------------------------BALANCED------------------------\")\n",
    "print(f\"F1-score balanced model: {f1_bal}\")\n",
    "print(f\"F1-score balanced compressed model: {f1_bal_prun}\")\n",
    "print(\"------------------------IMBALANCED------------------------\")\n",
    "print(f\"F1-score imbalanced model: {f1_imbal}\")\n",
    "print(f\"F1-score imbalanced compressed model: {f1_imbal_prun}\")"
   ]
  },
  {
   "cell_type": "code",
   "execution_count": 24,
   "metadata": {},
   "outputs": [
    {
     "name": "stdout",
     "output_type": "stream",
     "text": [
      "LeNet5(\n",
      "  (convs): Sequential(\n",
      "    (0): Sequential(\n",
      "      (0): Conv2d(1, 1, kernel_size=(5, 1), stride=(1, 1), padding=(2, 0), bias=False)\n",
      "      (1): Conv2d(1, 6, kernel_size=(1, 5), stride=(1, 1), padding=(0, 2))\n",
      "    )\n",
      "    (1): ReLU()\n",
      "    (2): MaxPool2d(kernel_size=2, stride=2, padding=0, dilation=1, ceil_mode=False)\n",
      "    (3): Conv2d(6, 16, kernel_size=(5, 5), stride=(1, 1))\n",
      "    (4): ReLU()\n",
      "    (5): MaxPool2d(kernel_size=2, stride=2, padding=0, dilation=1, ceil_mode=False)\n",
      "  )\n",
      "  (linears): Sequential(\n",
      "    (0): Linear(in_features=400, out_features=120, bias=True)\n",
      "    (1): Linear(in_features=120, out_features=84, bias=True)\n",
      "    (2): Linear(in_features=84, out_features=10, bias=True)\n",
      "  )\n",
      ")\n"
     ]
    }
   ],
   "source": [
    "print(comp_model_bal_svd)"
   ]
  },
  {
   "cell_type": "markdown",
   "metadata": {
    "id": "5qB8KplteFXV"
   },
   "source": [
    "## Testin imbalance learning methods\n",
    "HEELLL yea (temporary)"
   ]
  },
  {
   "cell_type": "code",
   "execution_count": null,
   "metadata": {
    "id": "iNSFrRrItF03"
   },
   "outputs": [],
   "source": [
    "# Define test loader\n",
    "transformImg = torchvision.transforms.Compose([torchvision.transforms.ToTensor(),\n",
    "                                               torchvision.transforms.Normalize((0.1307,), (0.3081,))])\n",
    "\n",
    "\n",
    "test = MNIST(root='./data', train=False, download=True, transform=transformImg)\n",
    "test_loader = DataLoader(test, batch_size=1024, num_workers=4, shuffle=False, pin_memory=True)\n",
    "\n",
    "# Define train loaders\n",
    "train = Dataset_Preprocessor()\n",
    "train.long_tailed_imbalance(100) \n",
    "train_loader = train.dataloader\n",
    "train_wrs_loader = train.wrs_dataloader\n",
    "train_weight = train.weight #.cuda()\n",
    "\n",
    "print(train_weight)"
   ]
  },
  {
   "cell_type": "code",
   "execution_count": null,
   "metadata": {
    "id": "W58XhohsbOtu"
   },
   "outputs": [],
   "source": [
    "# normal_imb_model = train_model(train_loader, \"Long-Tailed\")\n",
    "# wrs_CE_model = train_model(train_wrs_loader, \"Long-Tailed, WRS\")\n",
    "# normal_WCE_model = train_model(train_loader, \"Weighted CE\", weight=train_weight)\n",
    "# wrs_WCE_model = train_model(train_wrs_loader, \"WRS, Weighted CE\", weight=train_weight)\n",
    "\n",
    "models = []\n",
    "model = train_model(train_loader, \"Bug Fixing\")\n",
    "\n",
    "models.append(compress(model, 0.5, 'svd')[0])\n",
    "models.append(compress(model, 0.3, 'svd')[0])\n",
    "models.append(compress(model, 0.2, 'svd')[0])\n",
    "models.append(compress(model, 0.1, 'svd')[0])\n",
    "\n",
    "models.append(compress(model, 0.2, 'prun')[0])\n",
    "\n",
    "# gamma_half = train_model(train_loader, \"Focal Loss\", loss_func=\"FL\", weight=train_weight, gamma=0.19)\n",
    "# gamma_one = train_model(train_loader, \"Focal Loss\", loss_func=\"FL\", weight=train_weight, gamma=0.15)\n",
    "\n",
    "# gamma_one_half = train_model(train_loader, \"Focal Loss\", loss_func=\"FL\", weight=train_weight, gamma=0.25)\n",
    "# gamma_two = train_model(train_wrs_loader, \"WRS, Focal Loss\", loss_func=\"FL\", weight=train_weight, gamma=0.21)\n",
    "\n",
    "\n",
    "# print(\"Gamma: 0.4 ;\", our_f1_score(gamma_half, test_loader))\n",
    "# print(\"Gamma: 0.3 ;\", our_f1_score(gamma_one, test_loader))\n",
    "# print(\"Gamma: 0.2 ;\", our_f1_score(gamma_one_half, test_loader))\n",
    "# print(\"Gamma: 0.1 ;\", our_f1_score(gamma_two, test_loader))\n",
    "\n",
    "# print(\"Just Imbalance:\", our_f1_score(normal_imb_model, test_loader))\n",
    "# print(\"WRS, normal CE:\", our_f1_score(wrs_CE_model, test_loader))\n",
    "# print(\"Normal loader, WCE:\", our_f1_score(normal_WCE_model, test_loader))\n",
    "# print(\"WRS, WCE:\", our_f1_score(wrs_WCE_model, test_loader))\n",
    "# print(\"Normal Loader, FL:\", our_f1_score(normal_FL_model, test_loader))\n",
    "# print(\"WRS, FL:\", our_f1_score(wrs_FL_model, test_loader))\n",
    "\n",
    "# out:\n",
    "# Just Imbalance: 0.9464903384582831\n",
    "\n",
    "# WRS, normal CE: 0.9533586754650354\n",
    "# Normal loader, WCE: 0.9595584417399692\n",
    "# WRS, WCE: 0.897340612775242\n",
    "# Normal Loader, FL: 0.9251946954174868\n",
    "# WRS, FL: 0.9048888067949405\n",
    "# Normal Loader, FL (gamma=3): 0.8874900486210671\n",
    "# WRS, FL (gamma=1): 0.9412699364062872\n",
    "# Normal Loader, FL (gamma=1): 0.9519792810834111\n",
    "# WRS, FL (gamma=3): 0.8853290644996112\n",
    "\n",
    "# Gamma: 0.5 ; 0.9520905676432927\n",
    "# Gamma: 1.0 ; 0.9489965087640392\n",
    "# Gamma: 1.5 ; 0.9320343237494246\n",
    "# Gamma: 2.0 ; 0.8816604889961507\n",
    "# Gamma: 0.4 ; 0.9521100294383325\n",
    "# Gamma: 0.3 ; 0.9553254760710955\n",
    "# Gamma: 0.2 ; 0.9622722563627012\n",
    "# Gamma: 0.1 ; 0.9546977824804741"
   ]
  },
  {
   "cell_type": "code",
   "execution_count": null,
   "metadata": {},
   "outputs": [],
   "source": [
    "\n",
    "\n",
    "for model in models:\n",
    "    print(model)"
   ]
  },
  {
   "cell_type": "markdown",
   "metadata": {
    "id": "I6uMJERazkHK"
   },
   "source": [
    "## Test 2\n",
    "Varying the long-tailed imbalance but keeping the compress ratio constant."
   ]
  },
  {
   "cell_type": "code",
   "execution_count": null,
   "metadata": {
    "id": "miXvZCj4tF1B"
   },
   "outputs": [],
   "source": [
    "def imbal_ratio_tester(ratio_compr=0.5, method=\"manual\", cost=\"mac\", seeds=[42]):\n",
    "    ''' test how different compression ratios behave under various imbalance ratios '''\n",
    "    imb_ratios = [1, 5, 10, 20, 30, 40, 50, 60, 70, 80, 90, 100]\n",
    "\n",
    "    # test the same model for multiple seeds\n",
    "    for seed in seeds:\n",
    "        f1_ogs = []\n",
    "        f1_svds = []\n",
    "        svd_times = []\n",
    "        f1_pruns = []\n",
    "        prun_times = []\n",
    "        set_seed(seed)\n",
    "        print(f\"-----------------{seed}--------------\")\n",
    "        for ratio in imb_ratios:\n",
    "            print(f\"----------{ratio}--------------\")\n",
    "            # create dataloader\n",
    "            train = Dataset_Preprocessor()\n",
    "            train.long_tailed_imbalance(ratio)\n",
    "            train_imbal_loader = train.dataloader\n",
    "\n",
    "            # train model\n",
    "            model_name = f\"RQ2. Imbalance ratio: {ratio}, run: {seed}\"\n",
    "            model_imbal = train_model(train_imbal_loader, model_name)\n",
    "\n",
    "            # compress model\n",
    "            if method == \"auto\":\n",
    "                comp_model_svd, stats_imbal_svd = compress_auto(model_imbal, ratio_compr, \"svd\", cost=cost)\n",
    "                comp_model_prun, stats_imbal_prun = compress_auto(model_imbal, ratio_compr, \"prun\", cost=cost, data=train_imbal_loader)\n",
    "            elif method == \"manual\":\n",
    "                comp_model_svd, stats_imbal_svd = compress_manual(model_imbal, ratio_compr, \"svd\", cost=cost)\n",
    "                comp_model_prun, stats_imbal_prun = compress_manual(model_imbal, ratio_compr, \"prun\", cost=cost, data=train_imbal_loader)\n",
    "            else:\n",
    "                print(\"Unvalid method, try again.\")\n",
    "                return\n",
    "       \n",
    "            # store F1-scores\n",
    "            f1_ogs.append(model_f1_score(model_imbal, test_loader))\n",
    "            \n",
    "            f1_svds.append(model_f1_score(comp_model_svd, test_loader))\n",
    "            \n",
    "            f1_pruns.append(model_f1_score(comp_model_prun, test_loader))\n",
    "\n",
    "\n",
    "        # print F1-scores in a table\n",
    "        print(f\"seed: {seed}\")\n",
    "        print(\"{:<25}|{:<25}|{:<25}|{:<25}\".format(\"Imbalance\", \"F1 OG Model\", \"F1 SVD Model\", \"F1 PRUN Model\"))\n",
    "        for i in range(len(comp_ratios)):\n",
    "            print(\"{:<25}|{:<25}|{:<25}\".format(imb_ratios[i], f1_ogs[i], f1_svds[i], f1_pruns[i]))\n",
    "       \n",
    "    \n",
    "    return f1_ogs, f1_svds, f1_pruns\n",
    "\n",
    "warnings.filterwarnings(\"ignore\")"
   ]
  },
  {
   "cell_type": "code",
   "execution_count": null,
   "metadata": {
    "id": "p6sCI0n_ki00"
   },
   "outputs": [],
   "source": [
    "# MANUALLY CHOSEN COMPRESSION RATIO\n",
    "# MAC COMPRESSION\n",
    "imbal_ratio_tester(method=\"manual\", seeds=[420, 893, 666])"
   ]
  },
  {
   "cell_type": "code",
   "execution_count": null,
   "metadata": {
    "id": "kGPHAXc9kN1g"
   },
   "outputs": [],
   "source": [
    "# MANUALLY CHOSEN COMPRESSION RATIO\n",
    "# MEMORY COMPRESSION\n",
    "imbal_ratio_tester(method=\"manual\", cost=\"memory\", seeds=[420, 893, 666])"
   ]
  },
  {
   "cell_type": "code",
   "execution_count": null,
   "metadata": {
    "id": "cHM19dEUkUDT"
   },
   "outputs": [],
   "source": [
    "# AUTOMATIC CHOSEN COMPRESSION RATIO\n",
    "# MAC COMPRESSION\n",
    "imbal_ratio_tester(method=\"auto\", seeds=[420, 893, 666])"
   ]
  },
  {
   "cell_type": "code",
   "execution_count": null,
   "metadata": {
    "id": "pn2gcaJNkXuC"
   },
   "outputs": [],
   "source": [
    "# AUTOMATIC CHOSEN COMPRESSION RATIO\n",
    "# MEMORY COMPRESSION\n",
    "imbal_ratio_tester(method=\"auto\", cost=\"memory\", seeds=[420, 893, 666])"
   ]
  },
  {
   "cell_type": "markdown",
   "metadata": {
    "id": "3P0zhJ0Rbqs2"
   },
   "source": [
    "## Test 3\n",
    "\n",
    "Varying the compression ratio while keeping same inbalance"
   ]
  },
  {
   "cell_type": "code",
   "execution_count": null,
   "metadata": {
    "id": "fH60M79XbzDL"
   },
   "outputs": [],
   "source": [
    "def comp_ratio_tester(dataloader, loss_func='CE', description=\"\", weight=None, gamma=1):\n",
    "    comp_ratios = [1.0, 0.9, 0.8, 0.7, 0.6, 0.5, 0.4, 0.3, 0.2, 0.1]\n",
    "    seeds = [31, 32, 33]\n",
    "    f1_seeds = dict()\n",
    "    for seed in seeds:\n",
    "        set_seed(seed)\n",
    "        f1_svds = []\n",
    "        f1_pruns = []\n",
    "        model = train_model(dataloader, description, weight=weight, loss_func=loss_func, gamma=gamma)\n",
    "        for comp_ratio in comp_ratios:\n",
    "\n",
    "            model_svd, stats_imbal_svd = compress(model, comp_ratio, \"svd\")\n",
    "            model_prun, stats_imbal_prun = compress(model, comp_ratio, \"prun\", train_loader)\n",
    "\n",
    "            f1_svds.append(model_f1_score(model_svd, test_loader))\n",
    "            f1_pruns.append(model_f1_score(model_prun, test_loader))\n",
    "\n",
    "        print(f\"model {description}; seed: {seed}\")\n",
    "        print(\"{:<25}|{:<25}|{:<25}\".format(\"Comp Ratio\", \"F1 SVD Model\", \"F1 PRUN Model\"))\n",
    "        for i in range(len(comp_ratios)):\n",
    "            print(\"{:<25}|{:<25}|{:<25}\".format(comp_ratios[i],f1_svds[i],f1_pruns[i]))\n",
    "        \n",
    "        f1_seeds[seed] = {'svd': f1_svds, 'prun': f1_pruns}\n",
    "    return f1_seeds\n",
    "\n",
    "warnings.filterwarnings(\"ignore\")\n",
    "\n",
    "comp_ratio_tester(train_loader, description=\"Baseline\")\n",
    "comp_ratio_tester(train_wrs_loader, description=\"WRS\")\n",
    "comp_ratio_tester(train_loader, description=\"WCE\", weight=train_weight)\n",
    "comp_ratio_tester(train_wrs_loader, description=\"WRS, Weighted CE\", weight=train_weight)\n",
    "comp_ratio_tester(train_loader, description=\"Focal Loss, gamma=1\", loss_func=\"FL\", weight=train_weight, gamma=1)\n"
   ]
  },
  {
   "cell_type": "code",
   "execution_count": 87,
   "metadata": {},
   "outputs": [
    {
     "name": "stdout",
     "output_type": "stream",
     "text": [
      "            OG                           SVD                          PRUN                    \n",
      "           420       893       666       420       893       666       420       893       666\n",
      "1     0.981793  0.976605  0.980471  0.973411  0.971827  0.974512  0.979393  0.976198  0.977867\n",
      "50    0.855774  0.831923  0.837634  0.857461  0.830599  0.819689  0.849198  0.830776  0.835212\n",
      "100   0.721746  0.732836  0.712516  0.716993  0.729102  0.706367  0.718848  0.730134  0.711002\n",
      "200   0.645484  0.637173  0.658068  0.628906  0.636931  0.657147  0.644136  0.636058  0.656787\n",
      "300   0.620102  0.597130  0.615278  0.618130  0.594412  0.616913  0.621294  0.598376  0.616556\n",
      "400   0.592727  0.590458  0.599443  0.582644  0.581747  0.587252  0.591200  0.591849  0.598302\n",
      "500   0.467602  0.560481  0.413342  0.471146  0.550743  0.384050  0.469093  0.559893  0.413173\n",
      "600   0.458148  0.537751  0.528681  0.443136  0.554112  0.540063  0.457954  0.537730  0.527830\n",
      "700   0.514948  0.466831  0.488399  0.498565  0.457833  0.466818  0.513250  0.464384  0.484656\n",
      "800   0.585468  0.529502  0.534926  0.584824  0.516005  0.528212  0.585509  0.528542  0.533082\n",
      "900   0.527260  0.471966  0.448359  0.524516  0.484000  0.444094  0.526623  0.469999  0.445809\n",
      "1000  0.455331  0.418081  0.415975  0.464868  0.410309  0.416574  0.454824  0.417195  0.416196\n",
      "            OG                           SVD                          PRUN                    \n",
      "           420       893       666       420       893       666       420       893       666\n",
      "1     0.000374  0.000372  0.000372  0.000580  0.000477  0.000472  0.000373  0.000421  0.000377\n",
      "10    0.000377  0.000418  0.000461  0.000474  0.000546  0.000469  0.000390  0.000378  0.000374\n",
      "20    0.000390  0.000379  0.000375  0.000473  0.000481  0.000473  0.000446  0.000455  0.000393\n",
      "30    0.000375  0.000381  0.000380  0.000461  0.000470  0.000469  0.000374  0.000414  0.000428\n",
      "40    0.000384  0.000440  0.000380  0.000470  0.000470  0.000457  0.000367  0.000378  0.000372\n",
      "50    0.000377  0.000383  0.000381  0.000492  0.000462  0.000468  0.000373  0.000376  0.000378\n",
      "60    0.000383  0.000399  0.000428  0.000475  0.000473  0.000480  0.000372  0.000380  0.000378\n",
      "70    0.000380  0.000377  0.000373  0.000466  0.000471  0.000551  0.000369  0.000377  0.000393\n",
      "80    0.000370  0.000368  0.000377  0.000470  0.000560  0.000476  0.000371  0.000377  0.000373\n",
      "90    0.000382  0.000369  0.000383  0.000518  0.000474  0.000471  0.000371  0.000367  0.000368\n",
      "100   0.000455  0.000377  0.000376  0.000543  0.000488  0.000466  0.000383  0.000369  0.000398\n",
      "200   0.000441  0.000373  0.000378  0.000476  0.000533  0.000460  0.000451  0.000430  0.000375\n",
      "300   0.000370  0.000379  0.000372  0.000515  0.000464  0.000462  0.000371  0.000372  0.000369\n",
      "400   0.000461  0.000373  0.000378  0.000468  0.000478  0.000498  0.000438  0.000382  0.000397\n",
      "500   0.000373  0.000372  0.000375  0.000486  0.000467  0.000464  0.000375  0.000376  0.000368\n",
      "600   0.000459  0.000406  0.000420  0.000476  0.000465  0.000464  0.000371  0.000385  0.000387\n",
      "700   0.000385  0.000370  0.000384  0.000467  0.000466  0.000476  0.000375  0.000370  0.000376\n",
      "800   0.000386  0.000369  0.000374  0.000522  0.000475  0.000474  0.000387  0.000375  0.000420\n",
      "900   0.000374  0.000381  0.000377  0.000501  0.000485  0.000472  0.000379  0.000379  0.000391\n",
      "1000  0.000381  0.000400  0.000378  0.000463  0.000500  0.000526  0.000379  0.000367  0.000366\n",
      "1       0.979623\n",
      "50      0.841777\n",
      "100     0.722366\n",
      "200     0.646909\n",
      "300     0.610837\n",
      "400     0.594209\n",
      "500     0.480475\n",
      "600     0.508193\n",
      "700     0.490059\n",
      "800     0.549966\n",
      "900     0.482528\n",
      "1000    0.429796\n",
      "dtype: float64\n",
      "1       0.973250\n",
      "50      0.835916\n",
      "100     0.717488\n",
      "200     0.640995\n",
      "300     0.609819\n",
      "400     0.583881\n",
      "500     0.468646\n",
      "600     0.512437\n",
      "700     0.474405\n",
      "800     0.543014\n",
      "900     0.484203\n",
      "1000    0.430584\n",
      "dtype: float64\n",
      "1       0.977819\n",
      "50      0.838395\n",
      "100     0.719995\n",
      "200     0.645660\n",
      "300     0.612075\n",
      "400     0.593783\n",
      "500     0.480720\n",
      "600     0.507838\n",
      "700     0.487430\n",
      "800     0.549044\n",
      "900     0.480810\n",
      "1000    0.429405\n",
      "dtype: float64\n"
     ]
    },
    {
     "data": {
      "image/png": "[encoded data removed]",
      "text/plain": [
       "<Figure size 1080x720 with 1 Axes>"
      ]
     },
     "metadata": {},
     "output_type": "display_data"
    }
   ],
   "source": [
    "import pandas as pd\n",
    "\n",
    "df_f1 = pd.read_csv('df_f1.csv', header=[0, 1], skipinitialspace=True, index_col=0)\n",
    "df_time = pd.read_csv('df_time.csv', header=[0, 1], skipinitialspace=True, index_col=0)\n",
    "\n",
    "df_f1.columns = pd.MultiIndex.from_tuples(df_f1.columns)\n",
    "df_time.columns = pd.MultiIndex.from_tuples(df_f1.columns)\n",
    "pd.set_option('expand_frame_repr', False)\n",
    "\n",
    "models = [\"OG\", \"SVD\", \"PRUN\"]\n",
    "\n",
    "cut_ratios = [1, 50, 100, 200, 300, 400, 500, 600, 700, 800, 900, 1000]\n",
    "df_f1 = df_f1.drop(index=[10, 20, 30, 40, 60, 70, 80, 90])\n",
    "\n",
    "print(df_f1)\n",
    "print(df_time)\n",
    "\n",
    "tuples =[('OG', 420), ('OG', 893), ('OG', 666), ('SVD', 420), ('SVD', 893), ('SVD', 666), ('PRUN', 420), ('PRUN', 893), ('PRUN', 666)]\n",
    "\n",
    "df_f1_mean = pd.DataFrame(index=cut_ratios, columns=tuples)\n",
    "df_f1_std = pd.DataFrame(index=cut_ratios, columns=tuples)\n",
    "\n",
    "plt.figure(figsize=(15,10))\n",
    "# plt.xscale('log')\n",
    "plt.grid()\n",
    "\n",
    "for model in models:\n",
    "    mean = df_f1[model].mean(axis=1)\n",
    "    std = df_f1[model].std(axis=1)\n",
    "    \n",
    "    print(mean)\n",
    "    df_f1_mean[model] = mean\n",
    "    df_f1_std[model] = std\n",
    "    plt.errorbar(cut_ratios, mean, yerr=[std, std], capsize=5, label=model)\n",
    "\n",
    "plt.legend()\n",
    "plt.show()"
   ]
  },
  {
   "cell_type": "code",
   "execution_count": null,
   "metadata": {},
   "outputs": [],
   "source": []
  }
 ],
 "metadata": {
  "accelerator": "GPU",
  "colab": {
   "collapsed_sections": [],
   "name": "our_aimet_ready.ipynb",
   "provenance": []
  },
  "kernelspec": {
   "display_name": "Python 3",
   "language": "python",
   "name": "python3"
  },
  "language_info": {
   "codemirror_mode": {
    "name": "ipython",
    "version": 3
   },
   "file_extension": ".py",
   "mimetype": "text/x-python",
   "name": "python",
   "nbconvert_exporter": "python",
   "pygments_lexer": "ipython3",
   "version": "3.6.8"
  },
  "widgets": {
   "application/vnd.jupyter.widget-state+json": {
    "03f13b9671bc4300b9275ead0b3bdf66": {
     "model_module": "@jupyter-widgets/controls",
     "model_name": "ProgressStyleModel",
     "state": {
      "_model_module": "@jupyter-widgets/controls",
      "_model_module_version": "1.5.0",
      "_model_name": "ProgressStyleModel",
      "_view_count": null,
      "_view_module": "@jupyter-widgets/base",
      "_view_module_version": "1.2.0",
      "_view_name": "StyleView",
      "bar_color": null,
      "description_width": "initial"
     }
    },
    "11f0b2d07f6440a38efe5a6c357aaa23": {
     "model_module": "@jupyter-widgets/base",
     "model_name": "LayoutModel",
     "state": {
      "_model_module": "@jupyter-widgets/base",
      "_model_module_version": "1.2.0",
      "_model_name": "LayoutModel",
      "_view_count": null,
      "_view_module": "@jupyter-widgets/base",
      "_view_module_version": "1.2.0",
      "_view_name": "LayoutView",
      "align_content": null,
      "align_items": null,
      "align_self": null,
      "border": null,
      "bottom": null,
      "display": null,
      "flex": null,
      "flex_flow": null,
      "grid_area": null,
      "grid_auto_columns": null,
      "grid_auto_flow": null,
      "grid_auto_rows": null,
      "grid_column": null,
      "grid_gap": null,
      "grid_row": null,
      "grid_template_areas": null,
      "grid_template_columns": null,
      "grid_template_rows": null,
      "height": null,
      "justify_content": null,
      "justify_items": null,
      "left": null,
      "margin": null,
      "max_height": null,
      "max_width": null,
      "min_height": null,
      "min_width": null,
      "object_fit": null,
      "object_position": null,
      "order": null,
      "overflow": null,
      "overflow_x": null,
      "overflow_y": null,
      "padding": null,
      "right": null,
      "top": null,
      "visibility": null,
      "width": null
     }
    },
    "137fd723bd684014b9cabc25a326b8c4": {
     "model_module": "@jupyter-widgets/base",
     "model_name": "LayoutModel",
     "state": {
      "_model_module": "@jupyter-widgets/base",
      "_model_module_version": "1.2.0",
      "_model_name": "LayoutModel",
      "_view_count": null,
      "_view_module": "@jupyter-widgets/base",
      "_view_module_version": "1.2.0",
      "_view_name": "LayoutView",
      "align_content": null,
      "align_items": null,
      "align_self": null,
      "border": null,
      "bottom": null,
      "display": null,
      "flex": null,
      "flex_flow": null,
      "grid_area": null,
      "grid_auto_columns": null,
      "grid_auto_flow": null,
      "grid_auto_rows": null,
      "grid_column": null,
      "grid_gap": null,
      "grid_row": null,
      "grid_template_areas": null,
      "grid_template_columns": null,
      "grid_template_rows": null,
      "height": null,
      "justify_content": null,
      "justify_items": null,
      "left": null,
      "margin": null,
      "max_height": null,
      "max_width": null,
      "min_height": null,
      "min_width": null,
      "object_fit": null,
      "object_position": null,
      "order": null,
      "overflow": null,
      "overflow_x": null,
      "overflow_y": null,
      "padding": null,
      "right": null,
      "top": null,
      "visibility": null,
      "width": null
     }
    },
    "1b67e0e5fc9c41d8a38472c73b69eaa9": {
     "model_module": "@jupyter-widgets/base",
     "model_name": "LayoutModel",
     "state": {
      "_model_module": "@jupyter-widgets/base",
      "_model_module_version": "1.2.0",
      "_model_name": "LayoutModel",
      "_view_count": null,
      "_view_module": "@jupyter-widgets/base",
      "_view_module_version": "1.2.0",
      "_view_name": "LayoutView",
      "align_content": null,
      "align_items": null,
      "align_self": null,
      "border": null,
      "bottom": null,
      "display": null,
      "flex": null,
      "flex_flow": null,
      "grid_area": null,
      "grid_auto_columns": null,
      "grid_auto_flow": null,
      "grid_auto_rows": null,
      "grid_column": null,
      "grid_gap": null,
      "grid_row": null,
      "grid_template_areas": null,
      "grid_template_columns": null,
      "grid_template_rows": null,
      "height": null,
      "justify_content": null,
      "justify_items": null,
      "left": null,
      "margin": null,
      "max_height": null,
      "max_width": null,
      "min_height": null,
      "min_width": null,
      "object_fit": null,
      "object_position": null,
      "order": null,
      "overflow": null,
      "overflow_x": null,
      "overflow_y": null,
      "padding": null,
      "right": null,
      "top": null,
      "visibility": null,
      "width": null
     }
    },
    "2045b175693c4454b2af1a7517253a81": {
     "model_module": "@jupyter-widgets/controls",
     "model_name": "DescriptionStyleModel",
     "state": {
      "_model_module": "@jupyter-widgets/controls",
      "_model_module_version": "1.5.0",
      "_model_name": "DescriptionStyleModel",
      "_view_count": null,
      "_view_module": "@jupyter-widgets/base",
      "_view_module_version": "1.2.0",
      "_view_name": "StyleView",
      "description_width": ""
     }
    },
    "215364f96255434199cfc28ae086ab2f": {
     "model_module": "@jupyter-widgets/controls",
     "model_name": "HBoxModel",
     "state": {
      "_dom_classes": [],
      "_model_module": "@jupyter-widgets/controls",
      "_model_module_version": "1.5.0",
      "_model_name": "HBoxModel",
      "_view_count": null,
      "_view_module": "@jupyter-widgets/controls",
      "_view_module_version": "1.5.0",
      "_view_name": "HBoxView",
      "box_style": "",
      "children": [
       "IPY_MODEL_eebd3d97a7b5457790eed766d5fe4bc9",
       "IPY_MODEL_2f521280951244d1b13c088ae3a166a8"
      ],
      "layout": "IPY_MODEL_48051cec6b954080a324f2cef483dc55"
     }
    },
    "223993443e194b58aa4e62b48fb83e36": {
     "model_module": "@jupyter-widgets/controls",
     "model_name": "HBoxModel",
     "state": {
      "_dom_classes": [],
      "_model_module": "@jupyter-widgets/controls",
      "_model_module_version": "1.5.0",
      "_model_name": "HBoxModel",
      "_view_count": null,
      "_view_module": "@jupyter-widgets/controls",
      "_view_module_version": "1.5.0",
      "_view_name": "HBoxView",
      "box_style": "",
      "children": [
       "IPY_MODEL_f441ec61ff6e49b0832ff3ef34e84125",
       "IPY_MODEL_799b6c74872a4d09a9afcd24b325f290"
      ],
      "layout": "IPY_MODEL_8b4851dbf7474f8b8d89123336b191e8"
     }
    },
    "27ce4fd85b7742b3b6110609b241ec4c": {
     "model_module": "@jupyter-widgets/controls",
     "model_name": "HBoxModel",
     "state": {
      "_dom_classes": [],
      "_model_module": "@jupyter-widgets/controls",
      "_model_module_version": "1.5.0",
      "_model_name": "HBoxModel",
      "_view_count": null,
      "_view_module": "@jupyter-widgets/controls",
      "_view_module_version": "1.5.0",
      "_view_name": "HBoxView",
      "box_style": "",
      "children": [
       "IPY_MODEL_e47ae22e5d754fcda53d891a34e9b0e8",
       "IPY_MODEL_7b6d2f06c21942548550ff213bcf128f"
      ],
      "layout": "IPY_MODEL_137fd723bd684014b9cabc25a326b8c4"
     }
    },
    "2f521280951244d1b13c088ae3a166a8": {
     "model_module": "@jupyter-widgets/controls",
     "model_name": "HTMLModel",
     "state": {
      "_dom_classes": [],
      "_model_module": "@jupyter-widgets/controls",
      "_model_module_version": "1.5.0",
      "_model_name": "HTMLModel",
      "_view_count": null,
      "_view_module": "@jupyter-widgets/controls",
      "_view_module_version": "1.5.0",
      "_view_name": "HTMLView",
      "description": "",
      "description_tooltip": null,
      "layout": "IPY_MODEL_fec0f6661147447dad90106b6046afe3",
      "placeholder": "​",
      "style": "IPY_MODEL_b158080280a442b1b016c06b913bab06",
      "value": " 9920512/? [00:20&lt;00:00, 184782.06it/s]"
     }
    },
    "3d64610968cd4b72ab9ecefdd2dd1b5d": {
     "model_module": "@jupyter-widgets/controls",
     "model_name": "HTMLModel",
     "state": {
      "_dom_classes": [],
      "_model_module": "@jupyter-widgets/controls",
      "_model_module_version": "1.5.0",
      "_model_name": "HTMLModel",
      "_view_count": null,
      "_view_module": "@jupyter-widgets/controls",
      "_view_module_version": "1.5.0",
      "_view_name": "HTMLView",
      "description": "",
      "description_tooltip": null,
      "layout": "IPY_MODEL_413539febd5241bbb15d67ee0d142237",
      "placeholder": "​",
      "style": "IPY_MODEL_c95d62f1e7dc4ae59f33cc0ecda806a1",
      "value": " 8192/? [00:04&lt;00:00, 1810.83it/s]"
     }
    },
    "413539febd5241bbb15d67ee0d142237": {
     "model_module": "@jupyter-widgets/base",
     "model_name": "LayoutModel",
     "state": {
      "_model_module": "@jupyter-widgets/base",
      "_model_module_version": "1.2.0",
      "_model_name": "LayoutModel",
      "_view_count": null,
      "_view_module": "@jupyter-widgets/base",
      "_view_module_version": "1.2.0",
      "_view_name": "LayoutView",
      "align_content": null,
      "align_items": null,
      "align_self": null,
      "border": null,
      "bottom": null,
      "display": null,
      "flex": null,
      "flex_flow": null,
      "grid_area": null,
      "grid_auto_columns": null,
      "grid_auto_flow": null,
      "grid_auto_rows": null,
      "grid_column": null,
      "grid_gap": null,
      "grid_row": null,
      "grid_template_areas": null,
      "grid_template_columns": null,
      "grid_template_rows": null,
      "height": null,
      "justify_content": null,
      "justify_items": null,
      "left": null,
      "margin": null,
      "max_height": null,
      "max_width": null,
      "min_height": null,
      "min_width": null,
      "object_fit": null,
      "object_position": null,
      "order": null,
      "overflow": null,
      "overflow_x": null,
      "overflow_y": null,
      "padding": null,
      "right": null,
      "top": null,
      "visibility": null,
      "width": null
     }
    },
    "48051cec6b954080a324f2cef483dc55": {
     "model_module": "@jupyter-widgets/base",
     "model_name": "LayoutModel",
     "state": {
      "_model_module": "@jupyter-widgets/base",
      "_model_module_version": "1.2.0",
      "_model_name": "LayoutModel",
      "_view_count": null,
      "_view_module": "@jupyter-widgets/base",
      "_view_module_version": "1.2.0",
      "_view_name": "LayoutView",
      "align_content": null,
      "align_items": null,
      "align_self": null,
      "border": null,
      "bottom": null,
      "display": null,
      "flex": null,
      "flex_flow": null,
      "grid_area": null,
      "grid_auto_columns": null,
      "grid_auto_flow": null,
      "grid_auto_rows": null,
      "grid_column": null,
      "grid_gap": null,
      "grid_row": null,
      "grid_template_areas": null,
      "grid_template_columns": null,
      "grid_template_rows": null,
      "height": null,
      "justify_content": null,
      "justify_items": null,
      "left": null,
      "margin": null,
      "max_height": null,
      "max_width": null,
      "min_height": null,
      "min_width": null,
      "object_fit": null,
      "object_position": null,
      "order": null,
      "overflow": null,
      "overflow_x": null,
      "overflow_y": null,
      "padding": null,
      "right": null,
      "top": null,
      "visibility": null,
      "width": null
     }
    },
    "5023a0ea5ed04e75a787f31d45df6fb0": {
     "model_module": "@jupyter-widgets/controls",
     "model_name": "ProgressStyleModel",
     "state": {
      "_model_module": "@jupyter-widgets/controls",
      "_model_module_version": "1.5.0",
      "_model_name": "ProgressStyleModel",
      "_view_count": null,
      "_view_module": "@jupyter-widgets/base",
      "_view_module_version": "1.2.0",
      "_view_name": "StyleView",
      "bar_color": null,
      "description_width": "initial"
     }
    },
    "7459282c098d438a820fad3ac4a9f05e": {
     "model_module": "@jupyter-widgets/controls",
     "model_name": "HBoxModel",
     "state": {
      "_dom_classes": [],
      "_model_module": "@jupyter-widgets/controls",
      "_model_module_version": "1.5.0",
      "_model_name": "HBoxModel",
      "_view_count": null,
      "_view_module": "@jupyter-widgets/controls",
      "_view_module_version": "1.5.0",
      "_view_name": "HBoxView",
      "box_style": "",
      "children": [
       "IPY_MODEL_7eda1c09ef1e49159d7b4b9f1b1aea28",
       "IPY_MODEL_3d64610968cd4b72ab9ecefdd2dd1b5d"
      ],
      "layout": "IPY_MODEL_7b009ad1b43b427b915f106cea8f5f67"
     }
    },
    "799b6c74872a4d09a9afcd24b325f290": {
     "model_module": "@jupyter-widgets/controls",
     "model_name": "HTMLModel",
     "state": {
      "_dom_classes": [],
      "_model_module": "@jupyter-widgets/controls",
      "_model_module_version": "1.5.0",
      "_model_name": "HTMLModel",
      "_view_count": null,
      "_view_module": "@jupyter-widgets/controls",
      "_view_module_version": "1.5.0",
      "_view_name": "HTMLView",
      "description": "",
      "description_tooltip": null,
      "layout": "IPY_MODEL_11f0b2d07f6440a38efe5a6c357aaa23",
      "placeholder": "​",
      "style": "IPY_MODEL_a354c3aebeb6495a8e5cdca97563f60b",
      "value": " 0/? [00:00&lt;?, ?it/s]"
     }
    },
    "7b009ad1b43b427b915f106cea8f5f67": {
     "model_module": "@jupyter-widgets/base",
     "model_name": "LayoutModel",
     "state": {
      "_model_module": "@jupyter-widgets/base",
      "_model_module_version": "1.2.0",
      "_model_name": "LayoutModel",
      "_view_count": null,
      "_view_module": "@jupyter-widgets/base",
      "_view_module_version": "1.2.0",
      "_view_name": "LayoutView",
      "align_content": null,
      "align_items": null,
      "align_self": null,
      "border": null,
      "bottom": null,
      "display": null,
      "flex": null,
      "flex_flow": null,
      "grid_area": null,
      "grid_auto_columns": null,
      "grid_auto_flow": null,
      "grid_auto_rows": null,
      "grid_column": null,
      "grid_gap": null,
      "grid_row": null,
      "grid_template_areas": null,
      "grid_template_columns": null,
      "grid_template_rows": null,
      "height": null,
      "justify_content": null,
      "justify_items": null,
      "left": null,
      "margin": null,
      "max_height": null,
      "max_width": null,
      "min_height": null,
      "min_width": null,
      "object_fit": null,
      "object_position": null,
      "order": null,
      "overflow": null,
      "overflow_x": null,
      "overflow_y": null,
      "padding": null,
      "right": null,
      "top": null,
      "visibility": null,
      "width": null
     }
    },
    "7b6d2f06c21942548550ff213bcf128f": {
     "model_module": "@jupyter-widgets/controls",
     "model_name": "HTMLModel",
     "state": {
      "_dom_classes": [],
      "_model_module": "@jupyter-widgets/controls",
      "_model_module_version": "1.5.0",
      "_model_name": "HTMLModel",
      "_view_count": null,
      "_view_module": "@jupyter-widgets/controls",
      "_view_module_version": "1.5.0",
      "_view_name": "HTMLView",
      "description": "",
      "description_tooltip": null,
      "layout": "IPY_MODEL_c4cd79e1b8a8461e9167534fa350c727",
      "placeholder": "​",
      "style": "IPY_MODEL_2045b175693c4454b2af1a7517253a81",
      "value": " 1654784/? [00:04&lt;00:00, 349151.98it/s]"
     }
    },
    "7eda1c09ef1e49159d7b4b9f1b1aea28": {
     "model_module": "@jupyter-widgets/controls",
     "model_name": "FloatProgressModel",
     "state": {
      "_dom_classes": [],
      "_model_module": "@jupyter-widgets/controls",
      "_model_module_version": "1.5.0",
      "_model_name": "FloatProgressModel",
      "_view_count": null,
      "_view_module": "@jupyter-widgets/controls",
      "_view_module_version": "1.5.0",
      "_view_name": "ProgressView",
      "bar_style": "success",
      "description": "",
      "description_tooltip": null,
      "layout": "IPY_MODEL_e31e75cffc214067a8682bf1dbaea674",
      "max": 1,
      "min": 0,
      "orientation": "horizontal",
      "style": "IPY_MODEL_bf602e5a534345bc8868091294c119f2",
      "value": 1
     }
    },
    "8b4851dbf7474f8b8d89123336b191e8": {
     "model_module": "@jupyter-widgets/base",
     "model_name": "LayoutModel",
     "state": {
      "_model_module": "@jupyter-widgets/base",
      "_model_module_version": "1.2.0",
      "_model_name": "LayoutModel",
      "_view_count": null,
      "_view_module": "@jupyter-widgets/base",
      "_view_module_version": "1.2.0",
      "_view_name": "LayoutView",
      "align_content": null,
      "align_items": null,
      "align_self": null,
      "border": null,
      "bottom": null,
      "display": null,
      "flex": null,
      "flex_flow": null,
      "grid_area": null,
      "grid_auto_columns": null,
      "grid_auto_flow": null,
      "grid_auto_rows": null,
      "grid_column": null,
      "grid_gap": null,
      "grid_row": null,
      "grid_template_areas": null,
      "grid_template_columns": null,
      "grid_template_rows": null,
      "height": null,
      "justify_content": null,
      "justify_items": null,
      "left": null,
      "margin": null,
      "max_height": null,
      "max_width": null,
      "min_height": null,
      "min_width": null,
      "object_fit": null,
      "object_position": null,
      "order": null,
      "overflow": null,
      "overflow_x": null,
      "overflow_y": null,
      "padding": null,
      "right": null,
      "top": null,
      "visibility": null,
      "width": null
     }
    },
    "935992324dc046738f9cc2d6b3a0e5a2": {
     "model_module": "@jupyter-widgets/base",
     "model_name": "LayoutModel",
     "state": {
      "_model_module": "@jupyter-widgets/base",
      "_model_module_version": "1.2.0",
      "_model_name": "LayoutModel",
      "_view_count": null,
      "_view_module": "@jupyter-widgets/base",
      "_view_module_version": "1.2.0",
      "_view_name": "LayoutView",
      "align_content": null,
      "align_items": null,
      "align_self": null,
      "border": null,
      "bottom": null,
      "display": null,
      "flex": null,
      "flex_flow": null,
      "grid_area": null,
      "grid_auto_columns": null,
      "grid_auto_flow": null,
      "grid_auto_rows": null,
      "grid_column": null,
      "grid_gap": null,
      "grid_row": null,
      "grid_template_areas": null,
      "grid_template_columns": null,
      "grid_template_rows": null,
      "height": null,
      "justify_content": null,
      "justify_items": null,
      "left": null,
      "margin": null,
      "max_height": null,
      "max_width": null,
      "min_height": null,
      "min_width": null,
      "object_fit": null,
      "object_position": null,
      "order": null,
      "overflow": null,
      "overflow_x": null,
      "overflow_y": null,
      "padding": null,
      "right": null,
      "top": null,
      "visibility": null,
      "width": null
     }
    },
    "a354c3aebeb6495a8e5cdca97563f60b": {
     "model_module": "@jupyter-widgets/controls",
     "model_name": "DescriptionStyleModel",
     "state": {
      "_model_module": "@jupyter-widgets/controls",
      "_model_module_version": "1.5.0",
      "_model_name": "DescriptionStyleModel",
      "_view_count": null,
      "_view_module": "@jupyter-widgets/base",
      "_view_module_version": "1.2.0",
      "_view_name": "StyleView",
      "description_width": ""
     }
    },
    "b158080280a442b1b016c06b913bab06": {
     "model_module": "@jupyter-widgets/controls",
     "model_name": "DescriptionStyleModel",
     "state": {
      "_model_module": "@jupyter-widgets/controls",
      "_model_module_version": "1.5.0",
      "_model_name": "DescriptionStyleModel",
      "_view_count": null,
      "_view_module": "@jupyter-widgets/base",
      "_view_module_version": "1.2.0",
      "_view_name": "StyleView",
      "description_width": ""
     }
    },
    "bf602e5a534345bc8868091294c119f2": {
     "model_module": "@jupyter-widgets/controls",
     "model_name": "ProgressStyleModel",
     "state": {
      "_model_module": "@jupyter-widgets/controls",
      "_model_module_version": "1.5.0",
      "_model_name": "ProgressStyleModel",
      "_view_count": null,
      "_view_module": "@jupyter-widgets/base",
      "_view_module_version": "1.2.0",
      "_view_name": "StyleView",
      "bar_color": null,
      "description_width": "initial"
     }
    },
    "c4cd79e1b8a8461e9167534fa350c727": {
     "model_module": "@jupyter-widgets/base",
     "model_name": "LayoutModel",
     "state": {
      "_model_module": "@jupyter-widgets/base",
      "_model_module_version": "1.2.0",
      "_model_name": "LayoutModel",
      "_view_count": null,
      "_view_module": "@jupyter-widgets/base",
      "_view_module_version": "1.2.0",
      "_view_name": "LayoutView",
      "align_content": null,
      "align_items": null,
      "align_self": null,
      "border": null,
      "bottom": null,
      "display": null,
      "flex": null,
      "flex_flow": null,
      "grid_area": null,
      "grid_auto_columns": null,
      "grid_auto_flow": null,
      "grid_auto_rows": null,
      "grid_column": null,
      "grid_gap": null,
      "grid_row": null,
      "grid_template_areas": null,
      "grid_template_columns": null,
      "grid_template_rows": null,
      "height": null,
      "justify_content": null,
      "justify_items": null,
      "left": null,
      "margin": null,
      "max_height": null,
      "max_width": null,
      "min_height": null,
      "min_width": null,
      "object_fit": null,
      "object_position": null,
      "order": null,
      "overflow": null,
      "overflow_x": null,
      "overflow_y": null,
      "padding": null,
      "right": null,
      "top": null,
      "visibility": null,
      "width": null
     }
    },
    "c95d62f1e7dc4ae59f33cc0ecda806a1": {
     "model_module": "@jupyter-widgets/controls",
     "model_name": "DescriptionStyleModel",
     "state": {
      "_model_module": "@jupyter-widgets/controls",
      "_model_module_version": "1.5.0",
      "_model_name": "DescriptionStyleModel",
      "_view_count": null,
      "_view_module": "@jupyter-widgets/base",
      "_view_module_version": "1.2.0",
      "_view_name": "StyleView",
      "description_width": ""
     }
    },
    "e31e75cffc214067a8682bf1dbaea674": {
     "model_module": "@jupyter-widgets/base",
     "model_name": "LayoutModel",
     "state": {
      "_model_module": "@jupyter-widgets/base",
      "_model_module_version": "1.2.0",
      "_model_name": "LayoutModel",
      "_view_count": null,
      "_view_module": "@jupyter-widgets/base",
      "_view_module_version": "1.2.0",
      "_view_name": "LayoutView",
      "align_content": null,
      "align_items": null,
      "align_self": null,
      "border": null,
      "bottom": null,
      "display": null,
      "flex": null,
      "flex_flow": null,
      "grid_area": null,
      "grid_auto_columns": null,
      "grid_auto_flow": null,
      "grid_auto_rows": null,
      "grid_column": null,
      "grid_gap": null,
      "grid_row": null,
      "grid_template_areas": null,
      "grid_template_columns": null,
      "grid_template_rows": null,
      "height": null,
      "justify_content": null,
      "justify_items": null,
      "left": null,
      "margin": null,
      "max_height": null,
      "max_width": null,
      "min_height": null,
      "min_width": null,
      "object_fit": null,
      "object_position": null,
      "order": null,
      "overflow": null,
      "overflow_x": null,
      "overflow_y": null,
      "padding": null,
      "right": null,
      "top": null,
      "visibility": null,
      "width": null
     }
    },
    "e47ae22e5d754fcda53d891a34e9b0e8": {
     "model_module": "@jupyter-widgets/controls",
     "model_name": "FloatProgressModel",
     "state": {
      "_dom_classes": [],
      "_model_module": "@jupyter-widgets/controls",
      "_model_module_version": "1.5.0",
      "_model_name": "FloatProgressModel",
      "_view_count": null,
      "_view_module": "@jupyter-widgets/controls",
      "_view_module_version": "1.5.0",
      "_view_name": "ProgressView",
      "bar_style": "success",
      "description": "",
      "description_tooltip": null,
      "layout": "IPY_MODEL_e7594e00a52d485585d7cf17318bdb10",
      "max": 1,
      "min": 0,
      "orientation": "horizontal",
      "style": "IPY_MODEL_5023a0ea5ed04e75a787f31d45df6fb0",
      "value": 1
     }
    },
    "e7594e00a52d485585d7cf17318bdb10": {
     "model_module": "@jupyter-widgets/base",
     "model_name": "LayoutModel",
     "state": {
      "_model_module": "@jupyter-widgets/base",
      "_model_module_version": "1.2.0",
      "_model_name": "LayoutModel",
      "_view_count": null,
      "_view_module": "@jupyter-widgets/base",
      "_view_module_version": "1.2.0",
      "_view_name": "LayoutView",
      "align_content": null,
      "align_items": null,
      "align_self": null,
      "border": null,
      "bottom": null,
      "display": null,
      "flex": null,
      "flex_flow": null,
      "grid_area": null,
      "grid_auto_columns": null,
      "grid_auto_flow": null,
      "grid_auto_rows": null,
      "grid_column": null,
      "grid_gap": null,
      "grid_row": null,
      "grid_template_areas": null,
      "grid_template_columns": null,
      "grid_template_rows": null,
      "height": null,
      "justify_content": null,
      "justify_items": null,
      "left": null,
      "margin": null,
      "max_height": null,
      "max_width": null,
      "min_height": null,
      "min_width": null,
      "object_fit": null,
      "object_position": null,
      "order": null,
      "overflow": null,
      "overflow_x": null,
      "overflow_y": null,
      "padding": null,
      "right": null,
      "top": null,
      "visibility": null,
      "width": null
     }
    },
    "eebd3d97a7b5457790eed766d5fe4bc9": {
     "model_module": "@jupyter-widgets/controls",
     "model_name": "FloatProgressModel",
     "state": {
      "_dom_classes": [],
      "_model_module": "@jupyter-widgets/controls",
      "_model_module_version": "1.5.0",
      "_model_name": "FloatProgressModel",
      "_view_count": null,
      "_view_module": "@jupyter-widgets/controls",
      "_view_module_version": "1.5.0",
      "_view_name": "ProgressView",
      "bar_style": "info",
      "description": "",
      "description_tooltip": null,
      "layout": "IPY_MODEL_1b67e0e5fc9c41d8a38472c73b69eaa9",
      "max": 1,
      "min": 0,
      "orientation": "horizontal",
      "style": "IPY_MODEL_03f13b9671bc4300b9275ead0b3bdf66",
      "value": 1
     }
    },
    "f441ec61ff6e49b0832ff3ef34e84125": {
     "model_module": "@jupyter-widgets/controls",
     "model_name": "FloatProgressModel",
     "state": {
      "_dom_classes": [],
      "_model_module": "@jupyter-widgets/controls",
      "_model_module_version": "1.5.0",
      "_model_name": "FloatProgressModel",
      "_view_count": null,
      "_view_module": "@jupyter-widgets/controls",
      "_view_module_version": "1.5.0",
      "_view_name": "ProgressView",
      "bar_style": "info",
      "description": "",
      "description_tooltip": null,
      "layout": "IPY_MODEL_935992324dc046738f9cc2d6b3a0e5a2",
      "max": 1,
      "min": 0,
      "orientation": "horizontal",
      "style": "IPY_MODEL_f8ca54c9522f44f98e7901374474c7e2",
      "value": 0
     }
    },
    "f8ca54c9522f44f98e7901374474c7e2": {
     "model_module": "@jupyter-widgets/controls",
     "model_name": "ProgressStyleModel",
     "state": {
      "_model_module": "@jupyter-widgets/controls",
      "_model_module_version": "1.5.0",
      "_model_name": "ProgressStyleModel",
      "_view_count": null,
      "_view_module": "@jupyter-widgets/base",
      "_view_module_version": "1.2.0",
      "_view_name": "StyleView",
      "bar_color": null,
      "description_width": "initial"
     }
    },
    "fec0f6661147447dad90106b6046afe3": {
     "model_module": "@jupyter-widgets/base",
     "model_name": "LayoutModel",
     "state": {
      "_model_module": "@jupyter-widgets/base",
      "_model_module_version": "1.2.0",
      "_model_name": "LayoutModel",
      "_view_count": null,
      "_view_module": "@jupyter-widgets/base",
      "_view_module_version": "1.2.0",
      "_view_name": "LayoutView",
      "align_content": null,
      "align_items": null,
      "align_self": null,
      "border": null,
      "bottom": null,
      "display": null,
      "flex": null,
      "flex_flow": null,
      "grid_area": null,
      "grid_auto_columns": null,
      "grid_auto_flow": null,
      "grid_auto_rows": null,
      "grid_column": null,
      "grid_gap": null,
      "grid_row": null,
      "grid_template_areas": null,
      "grid_template_columns": null,
      "grid_template_rows": null,
      "height": null,
      "justify_content": null,
      "justify_items": null,
      "left": null,
      "margin": null,
      "max_height": null,
      "max_width": null,
      "min_height": null,
      "min_width": null,
      "object_fit": null,
      "object_position": null,
      "order": null,
      "overflow": null,
      "overflow_x": null,
      "overflow_y": null,
      "padding": null,
      "right": null,
      "top": null,
      "visibility": null,
      "width": null
     }
    }
   }
  }
 },
 "nbformat": 4,
 "nbformat_minor": 1
}
